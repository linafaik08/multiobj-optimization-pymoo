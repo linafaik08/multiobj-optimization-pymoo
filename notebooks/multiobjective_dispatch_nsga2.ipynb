{
 "cells": [
  {
   "cell_type": "code",
   "execution_count": 1,
   "metadata": {},
   "outputs": [
    {
     "name": "stdout",
     "output_type": "stream",
     "text": [
      "/Users/linafaik/Documents/projects/multiobj-optimization-pymoo\n"
     ]
    }
   ],
   "source": [
    "cd .."
   ]
  },
  {
   "cell_type": "code",
   "execution_count": 2,
   "metadata": {},
   "outputs": [],
   "source": [
    "import pandas as pd\n",
    "import numpy as np\n",
    "from plotly import graph_objects as go\n",
    "from tqdm import tqdm\n",
    "\n",
    "from pymoo.algorithms.moo.nsga2 import NSGA2\n",
    "from pymoo.operators.sampling.rnd import FloatRandomSampling\n",
    "from pymoo.operators.crossover.sbx import SBX\n",
    "from pymoo.operators.mutation.pm import PM\n",
    "from pymoo.termination import get_termination\n",
    "\n",
    "from src import (\n",
    "    optimization,\n",
    "    mcdm,\n",
    "    visualization\n",
    ")\n",
    "\n",
    "%load_ext autoreload\n",
    "%autoreload 2"
   ]
  },
  {
   "cell_type": "markdown",
   "metadata": {},
   "source": [
    "## 1. Data Preprocessing"
   ]
  },
  {
   "cell_type": "code",
   "execution_count": 3,
   "metadata": {},
   "outputs": [],
   "source": [
    "df = pd.read_csv(\"data/retail_store_inventory.csv\")"
   ]
  },
  {
   "cell_type": "code",
   "execution_count": 4,
   "metadata": {},
   "outputs": [],
   "source": [
    "column_demand = \"Demand Forecast\"\n",
    "column_stock = \"Available Units\"\n",
    "column_dispatch = \"Inventory Level\"\n",
    "column_sales = \"Unit Sold\""
   ]
  },
  {
   "cell_type": "code",
   "execution_count": null,
   "metadata": {},
   "outputs": [
    {
     "data": {
      "text/html": [
       "<div>\n",
       "<style scoped>\n",
       "    .dataframe tbody tr th:only-of-type {\n",
       "        vertical-align: middle;\n",
       "    }\n",
       "\n",
       "    .dataframe tbody tr th {\n",
       "        vertical-align: top;\n",
       "    }\n",
       "\n",
       "    .dataframe thead th {\n",
       "        text-align: right;\n",
       "    }\n",
       "</style>\n",
       "<table border=\"1\" class=\"dataframe\">\n",
       "  <thead>\n",
       "    <tr style=\"text-align: right;\">\n",
       "      <th></th>\n",
       "      <th>Date</th>\n",
       "      <th>Product ID</th>\n",
       "      <th>Initial Stock</th>\n",
       "      <th>Demand Forecast</th>\n",
       "    </tr>\n",
       "  </thead>\n",
       "  <tbody>\n",
       "    <tr>\n",
       "      <th>0</th>\n",
       "      <td>2022-01-01</td>\n",
       "      <td>P0001</td>\n",
       "      <td>1403</td>\n",
       "      <td>779.23</td>\n",
       "    </tr>\n",
       "    <tr>\n",
       "      <th>1</th>\n",
       "      <td>2022-01-01</td>\n",
       "      <td>P0002</td>\n",
       "      <td>1569</td>\n",
       "      <td>759.79</td>\n",
       "    </tr>\n",
       "    <tr>\n",
       "      <th>2</th>\n",
       "      <td>2022-01-01</td>\n",
       "      <td>P0003</td>\n",
       "      <td>1752</td>\n",
       "      <td>754.32</td>\n",
       "    </tr>\n",
       "    <tr>\n",
       "      <th>3</th>\n",
       "      <td>2022-01-01</td>\n",
       "      <td>P0004</td>\n",
       "      <td>1686</td>\n",
       "      <td>451.78</td>\n",
       "    </tr>\n",
       "    <tr>\n",
       "      <th>4</th>\n",
       "      <td>2022-01-01</td>\n",
       "      <td>P0005</td>\n",
       "      <td>1462</td>\n",
       "      <td>726.28</td>\n",
       "    </tr>\n",
       "  </tbody>\n",
       "</table>\n",
       "</div>"
      ],
      "text/plain": [
       "         Date Product ID  Initial Stock  Demand Forecast\n",
       "0  2022-01-01      P0001           1403           779.23\n",
       "1  2022-01-01      P0002           1569           759.79\n",
       "2  2022-01-01      P0003           1752           754.32\n",
       "3  2022-01-01      P0004           1686           451.78\n",
       "4  2022-01-01      P0005           1462           726.28"
      ]
     },
     "execution_count": 5,
     "metadata": {},
     "output_type": "execute_result"
    }
   ],
   "source": [
    "# We assume that the total available stock in the warehouse on a given date\n",
    "# is the sum of inventory levels across all stores. This is a basic assumption:\n",
    "# no lead time, and no storage capacity limitations in stores.\n",
    "\n",
    "# Ensure that demand values are non-negative (clip any negative values to 0)\n",
    "df[column_demand] = df[column_demand].clip(0)\n",
    "\n",
    "# Aggregate demand and dispatch quantities by Date and Product ID\n",
    "available_stock_df = (\n",
    "    df\n",
    "    .groupby([\"Date\", \"Product ID\"], as_index=False)\n",
    "    .agg({\n",
    "        column_dispatch: \"sum\",   # Sum of dispatches = initial stock across all stores\n",
    "        column_demand: \"sum\"      # Total demand across all stores\n",
    "    })\n",
    ")\n",
    "\n",
    "# Rename the dispatch column to \"Initial Stock\" for clarity\n",
    "available_stock_df = available_stock_df.rename(columns={column_dispatch: \"Initial Stock\"})\n",
    "\n",
    "# Show the first few rows of the resulting DataFrame\n",
    "available_stock_df.head()\n"
   ]
  },
  {
   "cell_type": "code",
   "execution_count": null,
   "metadata": {},
   "outputs": [
    {
     "data": {
      "text/html": [
       "<div>\n",
       "<style scoped>\n",
       "    .dataframe tbody tr th:only-of-type {\n",
       "        vertical-align: middle;\n",
       "    }\n",
       "\n",
       "    .dataframe tbody tr th {\n",
       "        vertical-align: top;\n",
       "    }\n",
       "\n",
       "    .dataframe thead th {\n",
       "        text-align: right;\n",
       "    }\n",
       "</style>\n",
       "<table border=\"1\" class=\"dataframe\">\n",
       "  <thead>\n",
       "    <tr style=\"text-align: right;\">\n",
       "      <th></th>\n",
       "      <th>Date</th>\n",
       "      <th>Product ID</th>\n",
       "      <th>Initial Stock</th>\n",
       "      <th>Demand Forecast</th>\n",
       "      <th>Available Units</th>\n",
       "      <th>Shortage Units</th>\n",
       "    </tr>\n",
       "  </thead>\n",
       "  <tbody>\n",
       "    <tr>\n",
       "      <th>0</th>\n",
       "      <td>2022-01-01</td>\n",
       "      <td>P0002</td>\n",
       "      <td>1569</td>\n",
       "      <td>759.79</td>\n",
       "      <td>612.0</td>\n",
       "      <td>147.79</td>\n",
       "    </tr>\n",
       "    <tr>\n",
       "      <th>1</th>\n",
       "      <td>2022-01-01</td>\n",
       "      <td>P0003</td>\n",
       "      <td>1752</td>\n",
       "      <td>754.32</td>\n",
       "      <td>684.0</td>\n",
       "      <td>70.32</td>\n",
       "    </tr>\n",
       "    <tr>\n",
       "      <th>2</th>\n",
       "      <td>2022-01-01</td>\n",
       "      <td>P0010</td>\n",
       "      <td>965</td>\n",
       "      <td>427.97</td>\n",
       "      <td>414.0</td>\n",
       "      <td>13.97</td>\n",
       "    </tr>\n",
       "    <tr>\n",
       "      <th>3</th>\n",
       "      <td>2022-01-01</td>\n",
       "      <td>P0011</td>\n",
       "      <td>1249</td>\n",
       "      <td>543.50</td>\n",
       "      <td>414.0</td>\n",
       "      <td>129.50</td>\n",
       "    </tr>\n",
       "    <tr>\n",
       "      <th>4</th>\n",
       "      <td>2022-01-01</td>\n",
       "      <td>P0013</td>\n",
       "      <td>1044</td>\n",
       "      <td>665.06</td>\n",
       "      <td>493.0</td>\n",
       "      <td>172.06</td>\n",
       "    </tr>\n",
       "  </tbody>\n",
       "</table>\n",
       "</div>"
      ],
      "text/plain": [
       "         Date Product ID  Initial Stock  Demand Forecast  Available Units  \\\n",
       "0  2022-01-01      P0002           1569           759.79            612.0   \n",
       "1  2022-01-01      P0003           1752           754.32            684.0   \n",
       "2  2022-01-01      P0010            965           427.97            414.0   \n",
       "3  2022-01-01      P0011           1249           543.50            414.0   \n",
       "4  2022-01-01      P0013           1044           665.06            493.0   \n",
       "\n",
       "   Shortage Units  \n",
       "0          147.79  \n",
       "1           70.32  \n",
       "2           13.97  \n",
       "3          129.50  \n",
       "4          172.06  "
      ]
     },
     "execution_count": 6,
     "metadata": {},
     "output_type": "execute_result"
    }
   ],
   "source": [
    "# We simulate shortage cases by introducing variability between demand and stock\n",
    "\n",
    "np.random.seed(42)  # Set a random seed for reproducibility\n",
    "\n",
    "# Define the range of random buffer units to simulate over- or under-stock\n",
    "buffer_units_min = -200\n",
    "buffer_units_max = 200\n",
    "\n",
    "# Generate the simulated available stock:\n",
    "# Subtract a random buffer (positive or negative) from demand to create stock values\n",
    "# Clip negative values to 0 and round to whole units\n",
    "available_stock_df[column_stock] = (\n",
    "    available_stock_df[column_demand]\n",
    "    - np.random.randint(buffer_units_min, buffer_units_max, size=len(available_stock_df))\n",
    ").clip(lower=0).round()\n",
    "\n",
    "# Identify shortage cases where demand exceeds available stock\n",
    "shortage_cases_df = available_stock_df[\n",
    "    (available_stock_df[column_demand]) > (available_stock_df[column_stock])\n",
    "].reset_index(drop=True)\n",
    "\n",
    "# Compute shortage quantity per case\n",
    "shortage_cases_df[\"Shortage Units\"] = (\n",
    "    shortage_cases_df[column_demand] - shortage_cases_df[column_stock]\n",
    ").clip(0)\n",
    "\n",
    "# Show the first few shortage cases\n",
    "shortage_cases_df.head()\n"
   ]
  },
  {
   "cell_type": "code",
   "execution_count": null,
   "metadata": {},
   "outputs": [
    {
     "data": {
      "application/vnd.plotly.v1+json": {
       "config": {
        "plotlyServerURL": "https://plot.ly"
       },
       "data": [
        {
         "line": {
          "color": "#E9762B"
         },
         "mode": "lines+markers",
         "name": "Available Units",
         "type": "scatter",
         "x": [
          "2022-07-03",
          "2022-07-04",
          "2022-07-05",
          "2022-07-06",
          "2022-07-07",
          "2022-07-08",
          "2022-07-09",
          "2022-07-10",
          "2022-07-11",
          "2022-07-12",
          "2022-07-13",
          "2022-07-14",
          "2022-07-15",
          "2022-07-16",
          "2022-07-17",
          "2022-07-18",
          "2022-07-19",
          "2022-07-20",
          "2022-07-21",
          "2022-07-22",
          "2022-07-23",
          "2022-07-24",
          "2022-07-25",
          "2022-07-26",
          "2022-07-27",
          "2022-07-28",
          "2022-07-29",
          "2022-07-30",
          "2022-07-31",
          "2022-08-01",
          "2022-08-02",
          "2022-08-03",
          "2022-08-04",
          "2022-08-05",
          "2022-08-06",
          "2022-08-07",
          "2022-08-08",
          "2022-08-09",
          "2022-08-10",
          "2022-08-11",
          "2022-08-12",
          "2022-08-13",
          "2022-08-14",
          "2022-08-15",
          "2022-08-16",
          "2022-08-17",
          "2022-08-18",
          "2022-08-19",
          "2022-08-20",
          "2022-08-21",
          "2022-08-22",
          "2022-08-23",
          "2022-08-24",
          "2022-08-25",
          "2022-08-26",
          "2022-08-27",
          "2022-08-28",
          "2022-08-29",
          "2022-08-30",
          "2022-08-31",
          "2022-09-01",
          "2022-09-02",
          "2022-09-03",
          "2022-09-04",
          "2022-09-05",
          "2022-09-06",
          "2022-09-07",
          "2022-09-08",
          "2022-09-09",
          "2022-09-10",
          "2022-09-11",
          "2022-09-12",
          "2022-09-13",
          "2022-09-14",
          "2022-09-15",
          "2022-09-16",
          "2022-09-17",
          "2022-09-18",
          "2022-09-19",
          "2022-09-20",
          "2022-09-21"
         ],
         "y": {
          "bdata": "AAAAAAAghEAAAAAAAHiHQAAAAAAAEIpAAAAAAAA4iEAAAAAAAHiAQAAAAAAAwGRAAAAAAAAQf0AAAAAAALiGQAAAAAAAEIlAAAAAAABIgkAAAAAAAJiBQAAAAAAAgIZAAAAAAAC4jEAAAAAAACB3QAAAAAAAAGxAAAAAAABAfEAAAAAAALiFQAAAAAAAWIlAAAAAAAAAgEAAAAAAAIBmQAAAAAAAeJJAAAAAAADwekAAAAAAALCFQAAAAAAAqIBAAAAAAAAYiEAAAAAAACB1QAAAAAAAuI1AAAAAAABgakAAAAAAAOCLQAAAAAAAYHlAAAAAAAAskEAAAAAAAPB5QAAAAAAAuJNAAAAAAAD4h0AAAAAAALiMQAAAAAAAgHZAAAAAAAAMkkAAAAAAALCBQAAAAAAAoItAAAAAAACwfEAAAAAAACCDQAAAAAAAUIJAAAAAAAAQcUAAAAAAAJiFQAAAAAAAzJNAAAAAAACIjkAAAAAAAFSQQAAAAAAAqIBAAAAAAACoiEAAAAAAAEiQQAAAAAAAaIdAAAAAAAAQi0AAAAAAAKCBQAAAAAAAEIBAAAAAAADIg0AAAAAAALB5QAAAAAAA0IpAAAAAAABQiEAAAAAAAGiKQAAAAAAAUH1AAAAAAABgYkAAAAAAALCPQAAAAAAAoGpAAAAAAAAIiUAAAAAAAFCHQAAAAAAAwG9AAAAAAACYjEAAAAAAAMiJQAAAAAAAIHxAAAAAAADgikAAAAAAAOCKQAAAAAAA8IlAAAAAAACIg0AAAAAAACBxQAAAAAAAeI1AAAAAAACwd0AAAAAAAKiLQAAAAAAAsHJAAAAAAAA4i0AAAAAAAIyTQAAAAAAAYIZA",
          "dtype": "f8"
         }
        },
        {
         "line": {
          "color": "#3D8D7A"
         },
         "mode": "lines+markers",
         "name": "Demand Forecast",
         "type": "scatter",
         "x": [
          "2022-07-03",
          "2022-07-04",
          "2022-07-05",
          "2022-07-06",
          "2022-07-07",
          "2022-07-08",
          "2022-07-09",
          "2022-07-10",
          "2022-07-11",
          "2022-07-12",
          "2022-07-13",
          "2022-07-14",
          "2022-07-15",
          "2022-07-16",
          "2022-07-17",
          "2022-07-18",
          "2022-07-19",
          "2022-07-20",
          "2022-07-21",
          "2022-07-22",
          "2022-07-23",
          "2022-07-24",
          "2022-07-25",
          "2022-07-26",
          "2022-07-27",
          "2022-07-28",
          "2022-07-29",
          "2022-07-30",
          "2022-07-31",
          "2022-08-01",
          "2022-08-02",
          "2022-08-03",
          "2022-08-04",
          "2022-08-05",
          "2022-08-06",
          "2022-08-07",
          "2022-08-08",
          "2022-08-09",
          "2022-08-10",
          "2022-08-11",
          "2022-08-12",
          "2022-08-13",
          "2022-08-14",
          "2022-08-15",
          "2022-08-16",
          "2022-08-17",
          "2022-08-18",
          "2022-08-19",
          "2022-08-20",
          "2022-08-21",
          "2022-08-22",
          "2022-08-23",
          "2022-08-24",
          "2022-08-25",
          "2022-08-26",
          "2022-08-27",
          "2022-08-28",
          "2022-08-29",
          "2022-08-30",
          "2022-08-31",
          "2022-09-01",
          "2022-09-02",
          "2022-09-03",
          "2022-09-04",
          "2022-09-05",
          "2022-09-06",
          "2022-09-07",
          "2022-09-08",
          "2022-09-09",
          "2022-09-10",
          "2022-09-11",
          "2022-09-12",
          "2022-09-13",
          "2022-09-14",
          "2022-09-15",
          "2022-09-16",
          "2022-09-17",
          "2022-09-18",
          "2022-09-19",
          "2022-09-20",
          "2022-09-21"
         ],
         "y": {
          "bdata": "XI/C9SiUf0A0MzMzMxGGQKRwPQrX0Y1AmpmZmZkTjkAzMzMzM9mBQIXrUbgenWdA7FG4HoU5hUCF61G4HjuIQHA9CtejMIhA4XoUrkefhUAVrkfhemyDQD4K16NwH4ZAkML1KFwxjEDrUbgehb+BQFK4HoXrqXFAHoXrUbhOfkBH4XoUrhWBQBSuR+F6sIRANDMzMzN7gUB7FK5H4RJ3QJqZmZmZapJAj8L1KFzrf0BI4XoUrrGKQHsUrkfhpIZACtejcD1Ug0DhehSuR2GAQM3MzMzM6IxAj8L1KFw3dEBmZmZmZtiIQKRwPQrXK21AhutRuB6Hj0CF61G4Hn17QB+F61G4CJJAPQrXo3Bth0BSuB6F61WKQClcj8L1FHlA9ihcj8J6kEA+CtejcH+FQM3MzMzMXo1Aj8L1KFwTgECF61G4HlOJQD4K16NwlXpASOF6FK4LdEBcj8L1KMqGQK5H4XoUAJFArkfhehS0i0BSuB6F62uKQJqZmZmZ44VAXI/C9Shyh0D2KFyPwsuMQGZmZmZmsIdAFa5H4XrShUB7FK5H4QaFQD4K16NwHX5APgrXo3BXhECF61G4Hr+AQPYoXI/CaY1AUrgehetZjEAK16NwPW6JQGZmZmZm0npAzczMzMz8ZkB7FK5H4TaLQAAAAAAAAHFAUrgehesTiUAL16NwPf6KQPYoXI/CZXpA7FG4HoW5ikDD9Shcj86HQML1KFyPHnhAMzMzMzNZj0DXo3A9CoOMQEjhehSu74pAFK5H4Xqcg0AAAAAAAGhyQJDC9ShcH4lAZmZmZmaqgEAVrkfhelKHQOF6FK5HFXNAhetRuB7hi0AAAAAAAJmTQKRwPQrX44ZA",
          "dtype": "f8"
         }
        },
        {
         "marker": {
          "color": "red",
          "size": 10
         },
         "mode": "markers",
         "name": "Shortage",
         "type": "scatter",
         "x": [
          "2022-08-12"
         ],
         "y": [
          612
         ]
        }
       ],
       "layout": {
        "template": {
         "data": {
          "bar": [
           {
            "error_x": {
             "color": "#2a3f5f"
            },
            "error_y": {
             "color": "#2a3f5f"
            },
            "marker": {
             "line": {
              "color": "white",
              "width": 0.5
             },
             "pattern": {
              "fillmode": "overlay",
              "size": 10,
              "solidity": 0.2
             }
            },
            "type": "bar"
           }
          ],
          "barpolar": [
           {
            "marker": {
             "line": {
              "color": "white",
              "width": 0.5
             },
             "pattern": {
              "fillmode": "overlay",
              "size": 10,
              "solidity": 0.2
             }
            },
            "type": "barpolar"
           }
          ],
          "carpet": [
           {
            "aaxis": {
             "endlinecolor": "#2a3f5f",
             "gridcolor": "#C8D4E3",
             "linecolor": "#C8D4E3",
             "minorgridcolor": "#C8D4E3",
             "startlinecolor": "#2a3f5f"
            },
            "baxis": {
             "endlinecolor": "#2a3f5f",
             "gridcolor": "#C8D4E3",
             "linecolor": "#C8D4E3",
             "minorgridcolor": "#C8D4E3",
             "startlinecolor": "#2a3f5f"
            },
            "type": "carpet"
           }
          ],
          "choropleth": [
           {
            "colorbar": {
             "outlinewidth": 0,
             "ticks": ""
            },
            "type": "choropleth"
           }
          ],
          "contour": [
           {
            "colorbar": {
             "outlinewidth": 0,
             "ticks": ""
            },
            "colorscale": [
             [
              0,
              "#0d0887"
             ],
             [
              0.1111111111111111,
              "#46039f"
             ],
             [
              0.2222222222222222,
              "#7201a8"
             ],
             [
              0.3333333333333333,
              "#9c179e"
             ],
             [
              0.4444444444444444,
              "#bd3786"
             ],
             [
              0.5555555555555556,
              "#d8576b"
             ],
             [
              0.6666666666666666,
              "#ed7953"
             ],
             [
              0.7777777777777778,
              "#fb9f3a"
             ],
             [
              0.8888888888888888,
              "#fdca26"
             ],
             [
              1,
              "#f0f921"
             ]
            ],
            "type": "contour"
           }
          ],
          "contourcarpet": [
           {
            "colorbar": {
             "outlinewidth": 0,
             "ticks": ""
            },
            "type": "contourcarpet"
           }
          ],
          "heatmap": [
           {
            "colorbar": {
             "outlinewidth": 0,
             "ticks": ""
            },
            "colorscale": [
             [
              0,
              "#0d0887"
             ],
             [
              0.1111111111111111,
              "#46039f"
             ],
             [
              0.2222222222222222,
              "#7201a8"
             ],
             [
              0.3333333333333333,
              "#9c179e"
             ],
             [
              0.4444444444444444,
              "#bd3786"
             ],
             [
              0.5555555555555556,
              "#d8576b"
             ],
             [
              0.6666666666666666,
              "#ed7953"
             ],
             [
              0.7777777777777778,
              "#fb9f3a"
             ],
             [
              0.8888888888888888,
              "#fdca26"
             ],
             [
              1,
              "#f0f921"
             ]
            ],
            "type": "heatmap"
           }
          ],
          "histogram": [
           {
            "marker": {
             "pattern": {
              "fillmode": "overlay",
              "size": 10,
              "solidity": 0.2
             }
            },
            "type": "histogram"
           }
          ],
          "histogram2d": [
           {
            "colorbar": {
             "outlinewidth": 0,
             "ticks": ""
            },
            "colorscale": [
             [
              0,
              "#0d0887"
             ],
             [
              0.1111111111111111,
              "#46039f"
             ],
             [
              0.2222222222222222,
              "#7201a8"
             ],
             [
              0.3333333333333333,
              "#9c179e"
             ],
             [
              0.4444444444444444,
              "#bd3786"
             ],
             [
              0.5555555555555556,
              "#d8576b"
             ],
             [
              0.6666666666666666,
              "#ed7953"
             ],
             [
              0.7777777777777778,
              "#fb9f3a"
             ],
             [
              0.8888888888888888,
              "#fdca26"
             ],
             [
              1,
              "#f0f921"
             ]
            ],
            "type": "histogram2d"
           }
          ],
          "histogram2dcontour": [
           {
            "colorbar": {
             "outlinewidth": 0,
             "ticks": ""
            },
            "colorscale": [
             [
              0,
              "#0d0887"
             ],
             [
              0.1111111111111111,
              "#46039f"
             ],
             [
              0.2222222222222222,
              "#7201a8"
             ],
             [
              0.3333333333333333,
              "#9c179e"
             ],
             [
              0.4444444444444444,
              "#bd3786"
             ],
             [
              0.5555555555555556,
              "#d8576b"
             ],
             [
              0.6666666666666666,
              "#ed7953"
             ],
             [
              0.7777777777777778,
              "#fb9f3a"
             ],
             [
              0.8888888888888888,
              "#fdca26"
             ],
             [
              1,
              "#f0f921"
             ]
            ],
            "type": "histogram2dcontour"
           }
          ],
          "mesh3d": [
           {
            "colorbar": {
             "outlinewidth": 0,
             "ticks": ""
            },
            "type": "mesh3d"
           }
          ],
          "parcoords": [
           {
            "line": {
             "colorbar": {
              "outlinewidth": 0,
              "ticks": ""
             }
            },
            "type": "parcoords"
           }
          ],
          "pie": [
           {
            "automargin": true,
            "type": "pie"
           }
          ],
          "scatter": [
           {
            "fillpattern": {
             "fillmode": "overlay",
             "size": 10,
             "solidity": 0.2
            },
            "type": "scatter"
           }
          ],
          "scatter3d": [
           {
            "line": {
             "colorbar": {
              "outlinewidth": 0,
              "ticks": ""
             }
            },
            "marker": {
             "colorbar": {
              "outlinewidth": 0,
              "ticks": ""
             }
            },
            "type": "scatter3d"
           }
          ],
          "scattercarpet": [
           {
            "marker": {
             "colorbar": {
              "outlinewidth": 0,
              "ticks": ""
             }
            },
            "type": "scattercarpet"
           }
          ],
          "scattergeo": [
           {
            "marker": {
             "colorbar": {
              "outlinewidth": 0,
              "ticks": ""
             }
            },
            "type": "scattergeo"
           }
          ],
          "scattergl": [
           {
            "marker": {
             "colorbar": {
              "outlinewidth": 0,
              "ticks": ""
             }
            },
            "type": "scattergl"
           }
          ],
          "scattermap": [
           {
            "marker": {
             "colorbar": {
              "outlinewidth": 0,
              "ticks": ""
             }
            },
            "type": "scattermap"
           }
          ],
          "scattermapbox": [
           {
            "marker": {
             "colorbar": {
              "outlinewidth": 0,
              "ticks": ""
             }
            },
            "type": "scattermapbox"
           }
          ],
          "scatterpolar": [
           {
            "marker": {
             "colorbar": {
              "outlinewidth": 0,
              "ticks": ""
             }
            },
            "type": "scatterpolar"
           }
          ],
          "scatterpolargl": [
           {
            "marker": {
             "colorbar": {
              "outlinewidth": 0,
              "ticks": ""
             }
            },
            "type": "scatterpolargl"
           }
          ],
          "scatterternary": [
           {
            "marker": {
             "colorbar": {
              "outlinewidth": 0,
              "ticks": ""
             }
            },
            "type": "scatterternary"
           }
          ],
          "surface": [
           {
            "colorbar": {
             "outlinewidth": 0,
             "ticks": ""
            },
            "colorscale": [
             [
              0,
              "#0d0887"
             ],
             [
              0.1111111111111111,
              "#46039f"
             ],
             [
              0.2222222222222222,
              "#7201a8"
             ],
             [
              0.3333333333333333,
              "#9c179e"
             ],
             [
              0.4444444444444444,
              "#bd3786"
             ],
             [
              0.5555555555555556,
              "#d8576b"
             ],
             [
              0.6666666666666666,
              "#ed7953"
             ],
             [
              0.7777777777777778,
              "#fb9f3a"
             ],
             [
              0.8888888888888888,
              "#fdca26"
             ],
             [
              1,
              "#f0f921"
             ]
            ],
            "type": "surface"
           }
          ],
          "table": [
           {
            "cells": {
             "fill": {
              "color": "#EBF0F8"
             },
             "line": {
              "color": "white"
             }
            },
            "header": {
             "fill": {
              "color": "#C8D4E3"
             },
             "line": {
              "color": "white"
             }
            },
            "type": "table"
           }
          ]
         },
         "layout": {
          "annotationdefaults": {
           "arrowcolor": "#2a3f5f",
           "arrowhead": 0,
           "arrowwidth": 1
          },
          "autotypenumbers": "strict",
          "coloraxis": {
           "colorbar": {
            "outlinewidth": 0,
            "ticks": ""
           }
          },
          "colorscale": {
           "diverging": [
            [
             0,
             "#8e0152"
            ],
            [
             0.1,
             "#c51b7d"
            ],
            [
             0.2,
             "#de77ae"
            ],
            [
             0.3,
             "#f1b6da"
            ],
            [
             0.4,
             "#fde0ef"
            ],
            [
             0.5,
             "#f7f7f7"
            ],
            [
             0.6,
             "#e6f5d0"
            ],
            [
             0.7,
             "#b8e186"
            ],
            [
             0.8,
             "#7fbc41"
            ],
            [
             0.9,
             "#4d9221"
            ],
            [
             1,
             "#276419"
            ]
           ],
           "sequential": [
            [
             0,
             "#0d0887"
            ],
            [
             0.1111111111111111,
             "#46039f"
            ],
            [
             0.2222222222222222,
             "#7201a8"
            ],
            [
             0.3333333333333333,
             "#9c179e"
            ],
            [
             0.4444444444444444,
             "#bd3786"
            ],
            [
             0.5555555555555556,
             "#d8576b"
            ],
            [
             0.6666666666666666,
             "#ed7953"
            ],
            [
             0.7777777777777778,
             "#fb9f3a"
            ],
            [
             0.8888888888888888,
             "#fdca26"
            ],
            [
             1,
             "#f0f921"
            ]
           ],
           "sequentialminus": [
            [
             0,
             "#0d0887"
            ],
            [
             0.1111111111111111,
             "#46039f"
            ],
            [
             0.2222222222222222,
             "#7201a8"
            ],
            [
             0.3333333333333333,
             "#9c179e"
            ],
            [
             0.4444444444444444,
             "#bd3786"
            ],
            [
             0.5555555555555556,
             "#d8576b"
            ],
            [
             0.6666666666666666,
             "#ed7953"
            ],
            [
             0.7777777777777778,
             "#fb9f3a"
            ],
            [
             0.8888888888888888,
             "#fdca26"
            ],
            [
             1,
             "#f0f921"
            ]
           ]
          },
          "colorway": [
           "#636efa",
           "#EF553B",
           "#00cc96",
           "#ab63fa",
           "#FFA15A",
           "#19d3f3",
           "#FF6692",
           "#B6E880",
           "#FF97FF",
           "#FECB52"
          ],
          "font": {
           "color": "#2a3f5f"
          },
          "geo": {
           "bgcolor": "white",
           "lakecolor": "white",
           "landcolor": "white",
           "showlakes": true,
           "showland": true,
           "subunitcolor": "#C8D4E3"
          },
          "hoverlabel": {
           "align": "left"
          },
          "hovermode": "closest",
          "mapbox": {
           "style": "light"
          },
          "paper_bgcolor": "white",
          "plot_bgcolor": "white",
          "polar": {
           "angularaxis": {
            "gridcolor": "#EBF0F8",
            "linecolor": "#EBF0F8",
            "ticks": ""
           },
           "bgcolor": "white",
           "radialaxis": {
            "gridcolor": "#EBF0F8",
            "linecolor": "#EBF0F8",
            "ticks": ""
           }
          },
          "scene": {
           "xaxis": {
            "backgroundcolor": "white",
            "gridcolor": "#DFE8F3",
            "gridwidth": 2,
            "linecolor": "#EBF0F8",
            "showbackground": true,
            "ticks": "",
            "zerolinecolor": "#EBF0F8"
           },
           "yaxis": {
            "backgroundcolor": "white",
            "gridcolor": "#DFE8F3",
            "gridwidth": 2,
            "linecolor": "#EBF0F8",
            "showbackground": true,
            "ticks": "",
            "zerolinecolor": "#EBF0F8"
           },
           "zaxis": {
            "backgroundcolor": "white",
            "gridcolor": "#DFE8F3",
            "gridwidth": 2,
            "linecolor": "#EBF0F8",
            "showbackground": true,
            "ticks": "",
            "zerolinecolor": "#EBF0F8"
           }
          },
          "shapedefaults": {
           "line": {
            "color": "#2a3f5f"
           }
          },
          "ternary": {
           "aaxis": {
            "gridcolor": "#DFE8F3",
            "linecolor": "#A2B1C6",
            "ticks": ""
           },
           "baxis": {
            "gridcolor": "#DFE8F3",
            "linecolor": "#A2B1C6",
            "ticks": ""
           },
           "bgcolor": "white",
           "caxis": {
            "gridcolor": "#DFE8F3",
            "linecolor": "#A2B1C6",
            "ticks": ""
           }
          },
          "title": {
           "x": 0.05
          },
          "xaxis": {
           "automargin": true,
           "gridcolor": "#EBF0F8",
           "linecolor": "#EBF0F8",
           "ticks": "",
           "title": {
            "standoff": 15
           },
           "zerolinecolor": "#EBF0F8",
           "zerolinewidth": 2
          },
          "yaxis": {
           "automargin": true,
           "gridcolor": "#EBF0F8",
           "linecolor": "#EBF0F8",
           "ticks": "",
           "title": {
            "standoff": 15
           },
           "zerolinecolor": "#EBF0F8",
           "zerolinewidth": 2
          }
         }
        },
        "title": {
         "text": "Stock Time Series - Product ID P0009"
        },
        "xaxis": {
         "title": {
          "text": "Date"
         }
        },
        "yaxis": {
         "title": {
          "text": "Available Units"
         }
        }
       }
      }
     },
     "metadata": {},
     "output_type": "display_data"
    }
   ],
   "source": [
    "import numpy as np\n",
    "import plotly.graph_objects as go\n",
    "\n",
    "i = 38 \n",
    "\n",
    "# Extract relevant values\n",
    "shortage_cases_df.sort_values(by=\"Shortage Units\", ascending=False, inplace=True)\n",
    "product_id = shortage_cases_df[\"Product ID\"].iloc[i]\n",
    "shortage_date = shortage_cases_df[\"Date\"].iloc[i]\n",
    "\n",
    "# Filter time series for the corresponding product\n",
    "product_ts_df = available_stock_df[available_stock_df[\"Product ID\"] == product_id].sort_values(\"Date\")\n",
    "\n",
    "# Find the index of the shortage date in the product's time series\n",
    "shortage_idx = product_ts_df[product_ts_df[\"Date\"] == shortage_date].index[0]\n",
    "all_dates = product_ts_df[\"Date\"].reset_index(drop=True)\n",
    "date_position = all_dates[all_dates == shortage_date].index[0]\n",
    "\n",
    "# Keep n_days dates before and after the shortage\n",
    "n_days = 40\n",
    "start = max(date_position - n_days, 0)\n",
    "end = min(date_position + n_days + 1, len(product_ts_df))\n",
    "filtered_ts_df = product_ts_df.reset_index(drop=True).iloc[start:end]\n",
    "\n",
    "# Get shortage stock value\n",
    "shortage_stock = filtered_ts_df.loc[filtered_ts_df[\"Date\"] == shortage_date, column_stock].values[0]\n",
    "\n",
    "# Plot\n",
    "fig = go.Figure()\n",
    "\n",
    "fig.add_trace(go.Scatter(\n",
    "    x=filtered_ts_df[\"Date\"],\n",
    "    y=filtered_ts_df[column_stock],\n",
    "    mode=\"lines+markers\",\n",
    "    name=column_stock,\n",
    "    line=dict(color=\"#E9762B\")  \n",
    "))\n",
    "\n",
    "fig.add_trace(go.Scatter(\n",
    "    x=filtered_ts_df[\"Date\"],\n",
    "    y=filtered_ts_df[column_demand],\n",
    "    mode=\"lines+markers\",\n",
    "    name=column_demand,\n",
    "    line=dict(color=\"#3D8D7A\")  \n",
    "))\n",
    "\n",
    "# Add red marker for shortage\n",
    "fig.add_trace(go.Scatter(\n",
    "    x=[shortage_date],\n",
    "    y=[shortage_stock],\n",
    "    mode=\"markers\",\n",
    "    marker=dict(color=\"red\", size=10),\n",
    "    name=\"Shortage\"\n",
    "))\n",
    "\n",
    "fig.update_layout(\n",
    "    title=f\"Stock Time Series - Product ID {product_id}\",\n",
    "    xaxis_title=\"Date\",\n",
    "    yaxis_title=column_stock,\n",
    "    template=\"plotly_white\"\n",
    ")\n",
    "\n",
    "fig.show()\n"
   ]
  },
  {
   "cell_type": "code",
   "execution_count": null,
   "metadata": {},
   "outputs": [],
   "source": [
    "# Merge the simulated stock levels back into the original dataframe\n",
    "# We join on \"Date\" and \"Product ID\" to align each row with its corresponding stock level\n",
    "# The merge is done as a left join to preserve all rows from the original 'df'\n",
    "\n",
    "df = df.merge(\n",
    "    available_stock_df[[\"Date\", \"Product ID\", column_stock]],\n",
    "    on=[\"Date\", \"Product ID\"],\n",
    "    how=\"left\"\n",
    ")\n"
   ]
  },
  {
   "cell_type": "markdown",
   "metadata": {},
   "source": [
    "## 2. Multi-Objective Optimization with NSGA-II"
   ]
  },
  {
   "cell_type": "code",
   "execution_count": 25,
   "metadata": {},
   "outputs": [
    {
     "name": "stdout",
     "output_type": "stream",
     "text": [
      "==========================================================================================\n",
      "n_gen  |  n_eval  | n_nds  |     cv_min    |     cv_avg    |      eps      |   indicator  \n",
      "==========================================================================================\n",
      "     1 |      100 |      1 |  6.420285E+01 |  1.698904E+03 |             - |             -\n",
      "     2 |      200 |      1 |  2.664616E+01 |  9.194562E+02 |             - |             -\n",
      "     3 |      300 |      2 |  0.000000E+00 |  4.664552E+02 |             - |             -\n",
      "     4 |      400 |      4 |  0.000000E+00 |  1.337646E+02 |  0.7242311153 |         ideal\n",
      "     5 |      500 |      5 |  0.000000E+00 |  5.5851895587 |  0.3244278516 |         ideal\n",
      "     6 |      600 |      8 |  0.000000E+00 |  0.000000E+00 |  0.0717715152 |         ideal\n",
      "     7 |      700 |      8 |  0.000000E+00 |  0.000000E+00 |  0.0601546790 |         ideal\n",
      "     8 |      800 |      5 |  0.000000E+00 |  0.000000E+00 |  2.3297226262 |         nadir\n",
      "     9 |      900 |      6 |  0.000000E+00 |  0.000000E+00 |  0.1654495296 |         ideal\n",
      "    10 |     1000 |      6 |  0.000000E+00 |  0.000000E+00 |  0.0545532189 |         ideal\n",
      "    11 |     1100 |      9 |  0.000000E+00 |  0.000000E+00 |  0.0295194145 |         ideal\n",
      "    12 |     1200 |     13 |  0.000000E+00 |  0.000000E+00 |  0.0447942214 |         ideal\n",
      "    13 |     1300 |     14 |  0.000000E+00 |  0.000000E+00 |  0.0848554025 |         ideal\n",
      "    14 |     1400 |     13 |  0.000000E+00 |  0.000000E+00 |  0.0221853750 |             f\n",
      "    15 |     1500 |     14 |  0.000000E+00 |  0.000000E+00 |  0.0055912977 |             f\n",
      "    16 |     1600 |     17 |  0.000000E+00 |  0.000000E+00 |  0.1142055837 |         nadir\n",
      "    17 |     1700 |     18 |  0.000000E+00 |  0.000000E+00 |  0.0646412412 |         ideal\n",
      "    18 |     1800 |     18 |  0.000000E+00 |  0.000000E+00 |  0.1468557119 |         nadir\n",
      "    19 |     1900 |     22 |  0.000000E+00 |  0.000000E+00 |  0.0640114348 |         ideal\n",
      "    20 |     2000 |     14 |  0.000000E+00 |  0.000000E+00 |  0.2767646377 |         nadir\n",
      "    21 |     2100 |     15 |  0.000000E+00 |  0.000000E+00 |  0.0212751258 |             f\n",
      "    22 |     2200 |     19 |  0.000000E+00 |  0.000000E+00 |  0.0177826742 |             f\n",
      "    23 |     2300 |     20 |  0.000000E+00 |  0.000000E+00 |  0.0022311975 |             f\n",
      "    24 |     2400 |     20 |  0.000000E+00 |  0.000000E+00 |  0.0058967537 |             f\n",
      "    25 |     2500 |     20 |  0.000000E+00 |  0.000000E+00 |  0.0005543406 |             f\n",
      "    26 |     2600 |     19 |  0.000000E+00 |  0.000000E+00 |  0.0055169918 |             f\n",
      "    27 |     2700 |     17 |  0.000000E+00 |  0.000000E+00 |  0.0155959764 |             f\n",
      "    28 |     2800 |     19 |  0.000000E+00 |  0.000000E+00 |  0.0052708832 |             f\n",
      "    29 |     2900 |     21 |  0.000000E+00 |  0.000000E+00 |  0.0115254586 |             f\n",
      "    30 |     3000 |     22 |  0.000000E+00 |  0.000000E+00 |  0.0011373203 |             f\n",
      "    31 |     3100 |     23 |  0.000000E+00 |  0.000000E+00 |  0.0050006489 |             f\n",
      "    32 |     3200 |     24 |  0.000000E+00 |  0.000000E+00 |  0.0042987943 |             f\n",
      "    33 |     3300 |     20 |  0.000000E+00 |  0.000000E+00 |  0.0043395516 |             f\n",
      "    34 |     3400 |     19 |  0.000000E+00 |  0.000000E+00 |  0.0027096858 |             f\n",
      "    35 |     3500 |     20 |  0.000000E+00 |  0.000000E+00 |  0.0032395729 |             f\n",
      "    36 |     3600 |     20 |  0.000000E+00 |  0.000000E+00 |  0.0038232113 |             f\n",
      "    37 |     3700 |     20 |  0.000000E+00 |  0.000000E+00 |  0.000000E+00 |             f\n",
      "    38 |     3800 |     21 |  0.000000E+00 |  0.000000E+00 |  0.0009316021 |             f\n",
      "    39 |     3900 |     25 |  0.000000E+00 |  0.000000E+00 |  0.0098008764 |             f\n",
      "    40 |     4000 |     25 |  0.000000E+00 |  0.000000E+00 |  0.000000E+00 |             f\n",
      "    41 |     4100 |     22 |  0.000000E+00 |  0.000000E+00 |  0.0048417291 |             f\n",
      "    42 |     4200 |     20 |  0.000000E+00 |  0.000000E+00 |  0.0029903436 |             f\n",
      "    43 |     4300 |     20 |  0.000000E+00 |  0.000000E+00 |  0.0037779767 |             f\n",
      "    44 |     4400 |     19 |  0.000000E+00 |  0.000000E+00 |  0.0038040898 |             f\n",
      "    45 |     4500 |     20 |  0.000000E+00 |  0.000000E+00 |  0.0026107899 |             f\n",
      "    46 |     4600 |     20 |  0.000000E+00 |  0.000000E+00 |  0.0114663867 |         ideal\n",
      "    47 |     4700 |     20 |  0.000000E+00 |  0.000000E+00 |  0.000000E+00 |             f\n",
      "    48 |     4800 |     20 |  0.000000E+00 |  0.000000E+00 |  0.0032226901 |             f\n",
      "    49 |     4900 |     20 |  0.000000E+00 |  0.000000E+00 |  0.0006640029 |             f\n",
      "    50 |     5000 |     21 |  0.000000E+00 |  0.000000E+00 |  0.0013611574 |             f\n",
      "    51 |     5100 |     21 |  0.000000E+00 |  0.000000E+00 |  0.0013611574 |             f\n",
      "    52 |     5200 |     21 |  0.000000E+00 |  0.000000E+00 |  0.0013611574 |             f\n",
      "    53 |     5300 |     21 |  0.000000E+00 |  0.000000E+00 |  0.0013611574 |             f\n",
      "    54 |     5400 |     20 |  0.000000E+00 |  0.000000E+00 |  0.0018471165 |             f\n",
      "    55 |     5500 |     20 |  0.000000E+00 |  0.000000E+00 |  0.0018471165 |             f\n",
      "    56 |     5600 |     20 |  0.000000E+00 |  0.000000E+00 |  0.0018471165 |             f\n",
      "    57 |     5700 |     19 |  0.000000E+00 |  0.000000E+00 |  0.0031568778 |             f\n",
      "    58 |     5800 |     20 |  0.000000E+00 |  0.000000E+00 |  0.0005054961 |             f\n",
      "    59 |     5900 |     20 |  0.000000E+00 |  0.000000E+00 |  0.0021413760 |             f\n",
      "    60 |     6000 |     20 |  0.000000E+00 |  0.000000E+00 |  0.0021413760 |             f\n",
      "    61 |     6100 |     20 |  0.000000E+00 |  0.000000E+00 |  0.0021413760 |             f\n",
      "    62 |     6200 |     22 |  0.000000E+00 |  0.000000E+00 |  0.0035448918 |             f\n",
      "    63 |     6300 |     23 |  0.000000E+00 |  0.000000E+00 |  0.0111138245 |         ideal\n",
      "    64 |     6400 |     20 |  0.000000E+00 |  0.000000E+00 |  0.0166936009 |         ideal\n",
      "    65 |     6500 |     20 |  0.000000E+00 |  0.000000E+00 |  0.0007386184 |             f\n",
      "    66 |     6600 |     23 |  0.000000E+00 |  0.000000E+00 |  0.0057142503 |             f\n",
      "    67 |     6700 |     23 |  0.000000E+00 |  0.000000E+00 |  0.000000E+00 |             f\n",
      "    68 |     6800 |     23 |  0.000000E+00 |  0.000000E+00 |  0.000000E+00 |             f\n",
      "    69 |     6900 |     24 |  0.000000E+00 |  0.000000E+00 |  0.0012150265 |             f\n",
      "    70 |     7000 |     24 |  0.000000E+00 |  0.000000E+00 |  0.0012150265 |             f\n",
      "    71 |     7100 |     23 |  0.000000E+00 |  0.000000E+00 |  0.0022720928 |             f\n",
      "    72 |     7200 |     23 |  0.000000E+00 |  0.000000E+00 |  0.0022720928 |             f\n",
      "    73 |     7300 |     23 |  0.000000E+00 |  0.000000E+00 |  0.0022720928 |             f\n",
      "    74 |     7400 |     23 |  0.000000E+00 |  0.000000E+00 |  0.0022720928 |             f\n",
      "    75 |     7500 |     24 |  0.000000E+00 |  0.000000E+00 |  0.0043744568 |             f\n",
      "    76 |     7600 |     25 |  0.000000E+00 |  0.000000E+00 |  0.0011711956 |             f\n",
      "    77 |     7700 |     22 |  0.000000E+00 |  0.000000E+00 |  0.0031367034 |             f\n",
      "    78 |     7800 |     20 |  0.000000E+00 |  0.000000E+00 |  0.0044056360 |             f\n",
      "    79 |     7900 |     20 |  0.000000E+00 |  0.000000E+00 |  0.000000E+00 |             f\n",
      "    80 |     8000 |     20 |  0.000000E+00 |  0.000000E+00 |  0.000000E+00 |             f\n",
      "    81 |     8100 |     20 |  0.000000E+00 |  0.000000E+00 |  0.000000E+00 |             f\n",
      "    82 |     8200 |     19 |  0.000000E+00 |  0.000000E+00 |  0.0007368780 |             f\n",
      "    83 |     8300 |     20 |  0.000000E+00 |  0.000000E+00 |  0.0015132762 |             f\n",
      "    84 |     8400 |     20 |  0.000000E+00 |  0.000000E+00 |  0.0045441156 |             f\n",
      "    85 |     8500 |     20 |  0.000000E+00 |  0.000000E+00 |  0.000000E+00 |             f\n",
      "    86 |     8600 |     20 |  0.000000E+00 |  0.000000E+00 |  0.000000E+00 |             f\n",
      "    87 |     8700 |     20 |  0.000000E+00 |  0.000000E+00 |  0.000000E+00 |             f\n",
      "    88 |     8800 |     21 |  0.000000E+00 |  0.000000E+00 |  0.0016828858 |             f\n",
      "    89 |     8900 |     21 |  0.000000E+00 |  0.000000E+00 |  0.0039064725 |             f\n",
      "    90 |     9000 |     22 |  0.000000E+00 |  0.000000E+00 |  0.0017316543 |             f\n",
      "    91 |     9100 |     23 |  0.000000E+00 |  0.000000E+00 |  0.0110473888 |         ideal\n",
      "    92 |     9200 |     23 |  0.000000E+00 |  0.000000E+00 |  0.000000E+00 |             f\n",
      "    93 |     9300 |     23 |  0.000000E+00 |  0.000000E+00 |  0.000000E+00 |             f\n",
      "    94 |     9400 |     23 |  0.000000E+00 |  0.000000E+00 |  0.000000E+00 |             f\n",
      "    95 |     9500 |     23 |  0.000000E+00 |  0.000000E+00 |  0.000000E+00 |             f\n",
      "    96 |     9600 |     23 |  0.000000E+00 |  0.000000E+00 |  0.000000E+00 |             f\n",
      "    97 |     9700 |     23 |  0.000000E+00 |  0.000000E+00 |  0.0004686610 |             f\n",
      "    98 |     9800 |     22 |  0.000000E+00 |  0.000000E+00 |  0.0597735866 |         nadir\n",
      "    99 |     9900 |     22 |  0.000000E+00 |  0.000000E+00 |  0.000000E+00 |             f\n",
      "   100 |    10000 |     22 |  0.000000E+00 |  0.000000E+00 |  0.0076048238 |             f\n",
      "   101 |    10100 |     22 |  0.000000E+00 |  0.000000E+00 |  0.000000E+00 |             f\n",
      "   102 |    10200 |     22 |  0.000000E+00 |  0.000000E+00 |  0.000000E+00 |             f\n",
      "   103 |    10300 |     22 |  0.000000E+00 |  0.000000E+00 |  0.000000E+00 |             f\n",
      "   104 |    10400 |     23 |  0.000000E+00 |  0.000000E+00 |  0.0011022200 |             f\n",
      "   105 |    10500 |     23 |  0.000000E+00 |  0.000000E+00 |  0.0011022200 |             f\n",
      "   106 |    10600 |     23 |  0.000000E+00 |  0.000000E+00 |  0.0011022200 |             f\n",
      "   107 |    10700 |     23 |  0.000000E+00 |  0.000000E+00 |  0.0011022200 |             f\n",
      "   108 |    10800 |     23 |  0.000000E+00 |  0.000000E+00 |  0.0011022200 |             f\n",
      "   109 |    10900 |     23 |  0.000000E+00 |  0.000000E+00 |  0.0011022200 |             f\n",
      "   110 |    11000 |     23 |  0.000000E+00 |  0.000000E+00 |  0.0537342090 |         nadir\n",
      "   111 |    11100 |     24 |  0.000000E+00 |  0.000000E+00 |  0.0006701877 |             f\n",
      "   112 |    11200 |     24 |  0.000000E+00 |  0.000000E+00 |  0.0006701877 |             f\n",
      "   113 |    11300 |     24 |  0.000000E+00 |  0.000000E+00 |  0.0010148034 |             f\n",
      "   114 |    11400 |     24 |  0.000000E+00 |  0.000000E+00 |  0.0010148034 |             f\n",
      "   115 |    11500 |     24 |  0.000000E+00 |  0.000000E+00 |  0.0010148034 |             f\n",
      "   116 |    11600 |     24 |  0.000000E+00 |  0.000000E+00 |  0.0010148034 |             f\n",
      "   117 |    11700 |     24 |  0.000000E+00 |  0.000000E+00 |  0.0010148034 |             f\n",
      "   118 |    11800 |     24 |  0.000000E+00 |  0.000000E+00 |  0.0010148034 |             f\n",
      "   119 |    11900 |     24 |  0.000000E+00 |  0.000000E+00 |  0.0010148034 |             f\n",
      "   120 |    12000 |     24 |  0.000000E+00 |  0.000000E+00 |  0.0010148034 |             f\n",
      "   121 |    12100 |     24 |  0.000000E+00 |  0.000000E+00 |  0.0010148034 |             f\n",
      "   122 |    12200 |     24 |  0.000000E+00 |  0.000000E+00 |  0.0010148034 |             f\n",
      "   123 |    12300 |     25 |  0.000000E+00 |  0.000000E+00 |  0.0020603822 |             f\n",
      "   124 |    12400 |     25 |  0.000000E+00 |  0.000000E+00 |  0.0020603822 |             f\n",
      "   125 |    12500 |     25 |  0.000000E+00 |  0.000000E+00 |  0.0020603822 |             f\n",
      "   126 |    12600 |     25 |  0.000000E+00 |  0.000000E+00 |  0.0065299889 |             f\n",
      "   127 |    12700 |     25 |  0.000000E+00 |  0.000000E+00 |  0.000000E+00 |             f\n",
      "   128 |    12800 |     25 |  0.000000E+00 |  0.000000E+00 |  0.000000E+00 |             f\n",
      "   129 |    12900 |     26 |  0.000000E+00 |  0.000000E+00 |  0.0026784172 |             f\n",
      "   130 |    13000 |     26 |  0.000000E+00 |  0.000000E+00 |  0.000000E+00 |             f\n",
      "   131 |    13100 |     26 |  0.000000E+00 |  0.000000E+00 |  0.000000E+00 |             f\n",
      "   132 |    13200 |     26 |  0.000000E+00 |  0.000000E+00 |  0.000000E+00 |             f\n",
      "   133 |    13300 |     26 |  0.000000E+00 |  0.000000E+00 |  0.000000E+00 |             f\n",
      "   134 |    13400 |     26 |  0.000000E+00 |  0.000000E+00 |  0.000000E+00 |             f\n",
      "   135 |    13500 |     27 |  0.000000E+00 |  0.000000E+00 |  0.0002002234 |             f\n",
      "   136 |    13600 |     27 |  0.000000E+00 |  0.000000E+00 |  0.0002002234 |             f\n",
      "   137 |    13700 |     27 |  0.000000E+00 |  0.000000E+00 |  0.0002002234 |             f\n",
      "   138 |    13800 |     27 |  0.000000E+00 |  0.000000E+00 |  0.0010384464 |             f\n",
      "   139 |    13900 |     27 |  0.000000E+00 |  0.000000E+00 |  0.0010384464 |             f\n",
      "   140 |    14000 |     27 |  0.000000E+00 |  0.000000E+00 |  0.0010384464 |             f\n",
      "   141 |    14100 |     27 |  0.000000E+00 |  0.000000E+00 |  0.0010384464 |             f\n",
      "   142 |    14200 |     27 |  0.000000E+00 |  0.000000E+00 |  0.0010384464 |             f\n",
      "   143 |    14300 |     27 |  0.000000E+00 |  0.000000E+00 |  0.0010384464 |             f\n",
      "   144 |    14400 |     27 |  0.000000E+00 |  0.000000E+00 |  0.0010384464 |             f\n",
      "   145 |    14500 |     24 |  0.000000E+00 |  0.000000E+00 |  0.2566216064 |         nadir\n",
      "   146 |    14600 |     23 |  0.000000E+00 |  0.000000E+00 |  0.0006063040 |             f\n",
      "   147 |    14700 |     23 |  0.000000E+00 |  0.000000E+00 |  0.0006063040 |             f\n",
      "   148 |    14800 |     24 |  0.000000E+00 |  0.000000E+00 |  0.0010294599 |             f\n",
      "   149 |    14900 |     25 |  0.000000E+00 |  0.000000E+00 |  0.0025081901 |             f\n",
      "   150 |    15000 |     25 |  0.000000E+00 |  0.000000E+00 |  0.000000E+00 |             f\n"
     ]
    }
   ],
   "source": [
    "shortage_to_optim_df = (\n",
    "    df[\n",
    "        (df[\"Date\"] == shortage_cases_df[\"Date\"].loc[i]) &\n",
    "        (df[\"Product ID\"] == shortage_cases_df[\"Product ID\"].loc[i])\n",
    "        ]\n",
    "    .sort_values(by=\"Date\")\n",
    "    .reset_index(drop=True)\n",
    "    )\n",
    "\n",
    "sampling = FloatRandomSampling()           # Initial random population\n",
    "crossover = SBX(prob=0.8, eta=15)          # Simulated Binary Crossover\n",
    "mutation = PM(eta=20)                      # Polynomial Mutation\n",
    "\n",
    "nsga2_algo = NSGA2(\n",
    "    pop_size=100,                          # Population size\n",
    "    sampling=sampling,                     # How to generate initial population\n",
    "    crossover=crossover,                   # Crossover method\n",
    "    mutation=mutation,                     # Mutation method\n",
    "    eliminate_duplicates=True              # Avoid duplicate individuals\n",
    ")\n",
    "\n",
    "termination = get_termination(\"n_gen\", 150)  # Run for 150 generations\n",
    "\n",
    "# Run optimization for that day\n",
    "problem = optimization.DispatchProblem(\n",
    "    data=shortage_to_optim_df,\n",
    "    column_demand=column_demand,\n",
    "    column_stock=column_stock,\n",
    "    with_demand_uncertainty=True,\n",
    "    nb_scenario = 100,\n",
    "    std_forecast_error = 0.35,\n",
    ")\n",
    "result = optimization.run_dispatch_optimization(\n",
    "    problem=problem,\n",
    "    algorithm=nsga2_algo,\n",
    "    termination=termination,\n",
    "    seed=123, # For reproducibility\n",
    "    verbose=True # Show progress\n",
    ")\n",
    "\n",
    "# result shape = (Number of non-dominated solutions x number of stores)\n",
    "\n",
    "# Best solution (vector of dispatch quantities, one per row/store)\n",
    "best_idx = result.F[:, 0].argmin()\n",
    "best_dispatch_vector = result.X[best_idx]\n",
    "\n",
    "results = []\n",
    "\n",
    "for row_idx, (store_id, forecast, stock, optimized_dispatch) in enumerate(zip(\n",
    "    shortage_to_optim_df[\"Store ID\"].values,\n",
    "    shortage_to_optim_df[column_demand].values,\n",
    "    shortage_to_optim_df[column_stock].values,\n",
    "    best_dispatch_vector\n",
    ")):\n",
    "    optimized_sales = min(optimized_dispatch, forecast)\n",
    "\n",
    "    results.append({\n",
    "        \"Date\": shortage_to_optim_df[\"Date\"].iloc[0],\n",
    "        column_stock: stock,\n",
    "        \"Store ID\": store_id,\n",
    "        column_demand: forecast,\n",
    "        \"Dispatch\": optimized_dispatch,\n",
    "        \"Sales\": optimized_sales,\n",
    "    })"
   ]
  },
  {
   "cell_type": "code",
   "execution_count": 10,
   "metadata": {},
   "outputs": [
    {
     "data": {
      "text/html": [
       "<div>\n",
       "<style scoped>\n",
       "    .dataframe tbody tr th:only-of-type {\n",
       "        vertical-align: middle;\n",
       "    }\n",
       "\n",
       "    .dataframe tbody tr th {\n",
       "        vertical-align: top;\n",
       "    }\n",
       "\n",
       "    .dataframe thead th {\n",
       "        text-align: right;\n",
       "    }\n",
       "</style>\n",
       "<table border=\"1\" class=\"dataframe\">\n",
       "  <thead>\n",
       "    <tr style=\"text-align: right;\">\n",
       "      <th></th>\n",
       "      <th>Date</th>\n",
       "      <th>Available Units</th>\n",
       "      <th>Store ID</th>\n",
       "      <th>Demand Forecast</th>\n",
       "      <th>Dispatch</th>\n",
       "      <th>Sales</th>\n",
       "    </tr>\n",
       "  </thead>\n",
       "  <tbody>\n",
       "    <tr>\n",
       "      <th>0</th>\n",
       "      <td>2022-01-04</td>\n",
       "      <td>1154.0</td>\n",
       "      <td>S001</td>\n",
       "      <td>349.59</td>\n",
       "      <td>338.977451</td>\n",
       "      <td>338.977451</td>\n",
       "    </tr>\n",
       "    <tr>\n",
       "      <th>1</th>\n",
       "      <td>2022-01-04</td>\n",
       "      <td>1154.0</td>\n",
       "      <td>S002</td>\n",
       "      <td>54.96</td>\n",
       "      <td>56.870043</td>\n",
       "      <td>54.960000</td>\n",
       "    </tr>\n",
       "    <tr>\n",
       "      <th>2</th>\n",
       "      <td>2022-01-04</td>\n",
       "      <td>1154.0</td>\n",
       "      <td>S003</td>\n",
       "      <td>248.10</td>\n",
       "      <td>240.329920</td>\n",
       "      <td>240.329920</td>\n",
       "    </tr>\n",
       "    <tr>\n",
       "      <th>3</th>\n",
       "      <td>2022-01-04</td>\n",
       "      <td>1154.0</td>\n",
       "      <td>S004</td>\n",
       "      <td>266.14</td>\n",
       "      <td>263.545550</td>\n",
       "      <td>263.545550</td>\n",
       "    </tr>\n",
       "    <tr>\n",
       "      <th>4</th>\n",
       "      <td>2022-01-04</td>\n",
       "      <td>1154.0</td>\n",
       "      <td>S005</td>\n",
       "      <td>252.35</td>\n",
       "      <td>246.797893</td>\n",
       "      <td>246.797893</td>\n",
       "    </tr>\n",
       "  </tbody>\n",
       "</table>\n",
       "</div>"
      ],
      "text/plain": [
       "         Date  Available Units Store ID  Demand Forecast    Dispatch  \\\n",
       "0  2022-01-04           1154.0     S001           349.59  338.977451   \n",
       "1  2022-01-04           1154.0     S002            54.96   56.870043   \n",
       "2  2022-01-04           1154.0     S003           248.10  240.329920   \n",
       "3  2022-01-04           1154.0     S004           266.14  263.545550   \n",
       "4  2022-01-04           1154.0     S005           252.35  246.797893   \n",
       "\n",
       "        Sales  \n",
       "0  338.977451  \n",
       "1   54.960000  \n",
       "2  240.329920  \n",
       "3  263.545550  \n",
       "4  246.797893  "
      ]
     },
     "execution_count": 10,
     "metadata": {},
     "output_type": "execute_result"
    }
   ],
   "source": [
    "# Create result DataFrame\n",
    "results_df = pd.DataFrame(results)\n",
    "\n",
    "# Show results\n",
    "results_df"
   ]
  },
  {
   "cell_type": "code",
   "execution_count": 11,
   "metadata": {},
   "outputs": [
    {
     "data": {
      "text/plain": [
       "(25, 2)"
      ]
     },
     "execution_count": 11,
     "metadata": {},
     "output_type": "execute_result"
    }
   ],
   "source": [
    "result.F.shape  # → (n_solutions, 2)\n",
    "# Each row in result.F is a non-dominated solution found by the algorithm\n",
    "# Each column corresponds to one objective function"
   ]
  },
  {
   "cell_type": "code",
   "execution_count": 12,
   "metadata": {},
   "outputs": [
    {
     "data": {
      "text/plain": [
       "array([-1115.09401737,    20.26644821])"
      ]
     },
     "execution_count": 12,
     "metadata": {},
     "output_type": "execute_result"
    }
   ],
   "source": [
    "result.F[0]\n",
    "# = (f1, f2)\n",
    "# where:\n",
    "#   f1 = -sum(min(x, demand)) → maximize sales\n",
    "#   f2 = sum(max(x - demand, 0)) → minimize overstock"
   ]
  },
  {
   "cell_type": "code",
   "execution_count": 13,
   "metadata": {},
   "outputs": [
    {
     "data": {
      "text/plain": [
       "(25, 5)"
      ]
     },
     "execution_count": 13,
     "metadata": {},
     "output_type": "execute_result"
    }
   ],
   "source": [
    "result.X.shape # → (n_solutions, n_variables)\n",
    "# Each row in result.X is a non-dominated solution found by the algorithm\n",
    "# Each column corresponds to a decision variable — in dispatch case, the dispatch for one store to which you're dispatching a product on a given day."
   ]
  },
  {
   "cell_type": "code",
   "execution_count": 14,
   "metadata": {},
   "outputs": [
    {
     "data": {
      "text/plain": [
       "(25, 1)"
      ]
     },
     "execution_count": 14,
     "metadata": {},
     "output_type": "execute_result"
    }
   ],
   "source": [
    "result.G.shape # → (n_solutions, n_constraints)\n",
    "# Constraint violation values (should be <= 0 to be feasible)\n",
    "# Each row corresponds to a solution; each column to a constraint"
   ]
  },
  {
   "cell_type": "code",
   "execution_count": 15,
   "metadata": {},
   "outputs": [
    {
     "data": {
      "text/plain": [
       "array([0.])"
      ]
     },
     "execution_count": 15,
     "metadata": {},
     "output_type": "execute_result"
    }
   ],
   "source": [
    "result.cv \n",
    "# Constraint violation\n",
    "# Used to identify feasible solutions: cv = 0 means fully feasible"
   ]
  },
  {
   "cell_type": "code",
   "execution_count": 16,
   "metadata": {},
   "outputs": [
    {
     "data": {
      "text/plain": [
       "array([ True])"
      ]
     },
     "execution_count": 16,
     "metadata": {},
     "output_type": "execute_result"
    }
   ],
   "source": [
    "result.feas\n",
    "# result.feas is a boolean mask indicating which solutions in result.X are feasible.\n",
    "# True = all constraints are satisfied (cv = 0), False = some constraint(s) violated"
   ]
  },
  {
   "cell_type": "code",
   "execution_count": 17,
   "metadata": {},
   "outputs": [
    {
     "name": "stdout",
     "output_type": "stream",
     "text": [
      "Execution time (sec): 1.0391461849212646\n",
      "End time: 2025-04-24 11:12:13.599990129\n"
     ]
    }
   ],
   "source": [
    "print(\"Execution time (sec):\", result.exec_time)\n",
    "# Total time taken to complete the optimization\n",
    "\n",
    "print(\"End time:\",pd.to_datetime(result.end_time, unit='s'))\n",
    "# Timestamp when the optimization finished"
   ]
  },
  {
   "cell_type": "code",
   "execution_count": 18,
   "metadata": {},
   "outputs": [
    {
     "data": {
      "application/vnd.plotly.v1+json": {
       "config": {
        "plotlyServerURL": "https://plot.ly"
       },
       "data": [
        {
         "marker": {
          "color": "blue",
          "line": {
           "width": 1
          },
          "size": 8
         },
         "mode": "markers",
         "name": "Pareto Front",
         "type": "scatter",
         "x": {
          "bdata": "6iAXRmBskcAiE/e0yUSRwAyZz9Nz5pDAmGoL/uVNkMAiqvXUes2OwEUJKuj9B5HAPpIrfyp2j8Cz8OrSLb2OwHhLXXL5iI7AAhmqy+50kMC9C0G7YYKPwET/w4BhXpHAVRFSkz6JkMCO6TZlYx+PwFoB/+ElIpDAoBjpFy0njsD2gfgfye6OwO8psy4QapHAMBT0TvXXj8Aa0HjygxiPwJaxg6Xaq5DAk/GYDuKYkcDrQxF2z0eQwAUXg/mI/I7AplTHGH34kMA=",
          "dtype": "f8"
         },
         "y": {
          "bdata": "Zpwz8zVENECzYxTWC7YpQJCPk+zoPRxAGmdwiNZABkCmnEffXRPKP/Ljzut+CiFApsKqGcn76j9mEt0muYbJP5pxGFz0Obg/9oD6NC2EC0Am9O9sr4HuP3Dj3yK9UCxAweoOfEBFEECaPwpxiQHjPyZk91sG2/g/AAAAAAAAAABmAB+gpz7RPxCPjPoEQTFAFYkUVS7w9z/gLel5HT/iPyZwqBsMrBBAgIF4PNNMNEAG5oVjb4H/P7rEzUiLOdM/MMvJEAuxH0A=",
          "dtype": "f8"
         }
        },
        {
         "marker": {
          "color": "green",
          "size": 12,
          "symbol": "star"
         },
         "mode": "markers",
         "name": "Ideal Point (Approx)",
         "type": "scatter",
         "x": [
          -1126.2207588097997
         ],
         "y": [
          0
         ]
        },
        {
         "marker": {
          "color": "red",
          "size": 12,
          "symbol": "pentagon"
         },
         "mode": "markers",
         "name": "Nadir Point (Approx)",
         "type": "scatter",
         "x": [
          -964.8970182619705
         ],
         "y": [
          20.30009820882833
         ]
        }
       ],
       "layout": {
        "height": 500,
        "template": {
         "data": {
          "bar": [
           {
            "error_x": {
             "color": "#2a3f5f"
            },
            "error_y": {
             "color": "#2a3f5f"
            },
            "marker": {
             "line": {
              "color": "white",
              "width": 0.5
             },
             "pattern": {
              "fillmode": "overlay",
              "size": 10,
              "solidity": 0.2
             }
            },
            "type": "bar"
           }
          ],
          "barpolar": [
           {
            "marker": {
             "line": {
              "color": "white",
              "width": 0.5
             },
             "pattern": {
              "fillmode": "overlay",
              "size": 10,
              "solidity": 0.2
             }
            },
            "type": "barpolar"
           }
          ],
          "carpet": [
           {
            "aaxis": {
             "endlinecolor": "#2a3f5f",
             "gridcolor": "#C8D4E3",
             "linecolor": "#C8D4E3",
             "minorgridcolor": "#C8D4E3",
             "startlinecolor": "#2a3f5f"
            },
            "baxis": {
             "endlinecolor": "#2a3f5f",
             "gridcolor": "#C8D4E3",
             "linecolor": "#C8D4E3",
             "minorgridcolor": "#C8D4E3",
             "startlinecolor": "#2a3f5f"
            },
            "type": "carpet"
           }
          ],
          "choropleth": [
           {
            "colorbar": {
             "outlinewidth": 0,
             "ticks": ""
            },
            "type": "choropleth"
           }
          ],
          "contour": [
           {
            "colorbar": {
             "outlinewidth": 0,
             "ticks": ""
            },
            "colorscale": [
             [
              0,
              "#0d0887"
             ],
             [
              0.1111111111111111,
              "#46039f"
             ],
             [
              0.2222222222222222,
              "#7201a8"
             ],
             [
              0.3333333333333333,
              "#9c179e"
             ],
             [
              0.4444444444444444,
              "#bd3786"
             ],
             [
              0.5555555555555556,
              "#d8576b"
             ],
             [
              0.6666666666666666,
              "#ed7953"
             ],
             [
              0.7777777777777778,
              "#fb9f3a"
             ],
             [
              0.8888888888888888,
              "#fdca26"
             ],
             [
              1,
              "#f0f921"
             ]
            ],
            "type": "contour"
           }
          ],
          "contourcarpet": [
           {
            "colorbar": {
             "outlinewidth": 0,
             "ticks": ""
            },
            "type": "contourcarpet"
           }
          ],
          "heatmap": [
           {
            "colorbar": {
             "outlinewidth": 0,
             "ticks": ""
            },
            "colorscale": [
             [
              0,
              "#0d0887"
             ],
             [
              0.1111111111111111,
              "#46039f"
             ],
             [
              0.2222222222222222,
              "#7201a8"
             ],
             [
              0.3333333333333333,
              "#9c179e"
             ],
             [
              0.4444444444444444,
              "#bd3786"
             ],
             [
              0.5555555555555556,
              "#d8576b"
             ],
             [
              0.6666666666666666,
              "#ed7953"
             ],
             [
              0.7777777777777778,
              "#fb9f3a"
             ],
             [
              0.8888888888888888,
              "#fdca26"
             ],
             [
              1,
              "#f0f921"
             ]
            ],
            "type": "heatmap"
           }
          ],
          "histogram": [
           {
            "marker": {
             "pattern": {
              "fillmode": "overlay",
              "size": 10,
              "solidity": 0.2
             }
            },
            "type": "histogram"
           }
          ],
          "histogram2d": [
           {
            "colorbar": {
             "outlinewidth": 0,
             "ticks": ""
            },
            "colorscale": [
             [
              0,
              "#0d0887"
             ],
             [
              0.1111111111111111,
              "#46039f"
             ],
             [
              0.2222222222222222,
              "#7201a8"
             ],
             [
              0.3333333333333333,
              "#9c179e"
             ],
             [
              0.4444444444444444,
              "#bd3786"
             ],
             [
              0.5555555555555556,
              "#d8576b"
             ],
             [
              0.6666666666666666,
              "#ed7953"
             ],
             [
              0.7777777777777778,
              "#fb9f3a"
             ],
             [
              0.8888888888888888,
              "#fdca26"
             ],
             [
              1,
              "#f0f921"
             ]
            ],
            "type": "histogram2d"
           }
          ],
          "histogram2dcontour": [
           {
            "colorbar": {
             "outlinewidth": 0,
             "ticks": ""
            },
            "colorscale": [
             [
              0,
              "#0d0887"
             ],
             [
              0.1111111111111111,
              "#46039f"
             ],
             [
              0.2222222222222222,
              "#7201a8"
             ],
             [
              0.3333333333333333,
              "#9c179e"
             ],
             [
              0.4444444444444444,
              "#bd3786"
             ],
             [
              0.5555555555555556,
              "#d8576b"
             ],
             [
              0.6666666666666666,
              "#ed7953"
             ],
             [
              0.7777777777777778,
              "#fb9f3a"
             ],
             [
              0.8888888888888888,
              "#fdca26"
             ],
             [
              1,
              "#f0f921"
             ]
            ],
            "type": "histogram2dcontour"
           }
          ],
          "mesh3d": [
           {
            "colorbar": {
             "outlinewidth": 0,
             "ticks": ""
            },
            "type": "mesh3d"
           }
          ],
          "parcoords": [
           {
            "line": {
             "colorbar": {
              "outlinewidth": 0,
              "ticks": ""
             }
            },
            "type": "parcoords"
           }
          ],
          "pie": [
           {
            "automargin": true,
            "type": "pie"
           }
          ],
          "scatter": [
           {
            "fillpattern": {
             "fillmode": "overlay",
             "size": 10,
             "solidity": 0.2
            },
            "type": "scatter"
           }
          ],
          "scatter3d": [
           {
            "line": {
             "colorbar": {
              "outlinewidth": 0,
              "ticks": ""
             }
            },
            "marker": {
             "colorbar": {
              "outlinewidth": 0,
              "ticks": ""
             }
            },
            "type": "scatter3d"
           }
          ],
          "scattercarpet": [
           {
            "marker": {
             "colorbar": {
              "outlinewidth": 0,
              "ticks": ""
             }
            },
            "type": "scattercarpet"
           }
          ],
          "scattergeo": [
           {
            "marker": {
             "colorbar": {
              "outlinewidth": 0,
              "ticks": ""
             }
            },
            "type": "scattergeo"
           }
          ],
          "scattergl": [
           {
            "marker": {
             "colorbar": {
              "outlinewidth": 0,
              "ticks": ""
             }
            },
            "type": "scattergl"
           }
          ],
          "scattermap": [
           {
            "marker": {
             "colorbar": {
              "outlinewidth": 0,
              "ticks": ""
             }
            },
            "type": "scattermap"
           }
          ],
          "scattermapbox": [
           {
            "marker": {
             "colorbar": {
              "outlinewidth": 0,
              "ticks": ""
             }
            },
            "type": "scattermapbox"
           }
          ],
          "scatterpolar": [
           {
            "marker": {
             "colorbar": {
              "outlinewidth": 0,
              "ticks": ""
             }
            },
            "type": "scatterpolar"
           }
          ],
          "scatterpolargl": [
           {
            "marker": {
             "colorbar": {
              "outlinewidth": 0,
              "ticks": ""
             }
            },
            "type": "scatterpolargl"
           }
          ],
          "scatterternary": [
           {
            "marker": {
             "colorbar": {
              "outlinewidth": 0,
              "ticks": ""
             }
            },
            "type": "scatterternary"
           }
          ],
          "surface": [
           {
            "colorbar": {
             "outlinewidth": 0,
             "ticks": ""
            },
            "colorscale": [
             [
              0,
              "#0d0887"
             ],
             [
              0.1111111111111111,
              "#46039f"
             ],
             [
              0.2222222222222222,
              "#7201a8"
             ],
             [
              0.3333333333333333,
              "#9c179e"
             ],
             [
              0.4444444444444444,
              "#bd3786"
             ],
             [
              0.5555555555555556,
              "#d8576b"
             ],
             [
              0.6666666666666666,
              "#ed7953"
             ],
             [
              0.7777777777777778,
              "#fb9f3a"
             ],
             [
              0.8888888888888888,
              "#fdca26"
             ],
             [
              1,
              "#f0f921"
             ]
            ],
            "type": "surface"
           }
          ],
          "table": [
           {
            "cells": {
             "fill": {
              "color": "#EBF0F8"
             },
             "line": {
              "color": "white"
             }
            },
            "header": {
             "fill": {
              "color": "#C8D4E3"
             },
             "line": {
              "color": "white"
             }
            },
            "type": "table"
           }
          ]
         },
         "layout": {
          "annotationdefaults": {
           "arrowcolor": "#2a3f5f",
           "arrowhead": 0,
           "arrowwidth": 1
          },
          "autotypenumbers": "strict",
          "coloraxis": {
           "colorbar": {
            "outlinewidth": 0,
            "ticks": ""
           }
          },
          "colorscale": {
           "diverging": [
            [
             0,
             "#8e0152"
            ],
            [
             0.1,
             "#c51b7d"
            ],
            [
             0.2,
             "#de77ae"
            ],
            [
             0.3,
             "#f1b6da"
            ],
            [
             0.4,
             "#fde0ef"
            ],
            [
             0.5,
             "#f7f7f7"
            ],
            [
             0.6,
             "#e6f5d0"
            ],
            [
             0.7,
             "#b8e186"
            ],
            [
             0.8,
             "#7fbc41"
            ],
            [
             0.9,
             "#4d9221"
            ],
            [
             1,
             "#276419"
            ]
           ],
           "sequential": [
            [
             0,
             "#0d0887"
            ],
            [
             0.1111111111111111,
             "#46039f"
            ],
            [
             0.2222222222222222,
             "#7201a8"
            ],
            [
             0.3333333333333333,
             "#9c179e"
            ],
            [
             0.4444444444444444,
             "#bd3786"
            ],
            [
             0.5555555555555556,
             "#d8576b"
            ],
            [
             0.6666666666666666,
             "#ed7953"
            ],
            [
             0.7777777777777778,
             "#fb9f3a"
            ],
            [
             0.8888888888888888,
             "#fdca26"
            ],
            [
             1,
             "#f0f921"
            ]
           ],
           "sequentialminus": [
            [
             0,
             "#0d0887"
            ],
            [
             0.1111111111111111,
             "#46039f"
            ],
            [
             0.2222222222222222,
             "#7201a8"
            ],
            [
             0.3333333333333333,
             "#9c179e"
            ],
            [
             0.4444444444444444,
             "#bd3786"
            ],
            [
             0.5555555555555556,
             "#d8576b"
            ],
            [
             0.6666666666666666,
             "#ed7953"
            ],
            [
             0.7777777777777778,
             "#fb9f3a"
            ],
            [
             0.8888888888888888,
             "#fdca26"
            ],
            [
             1,
             "#f0f921"
            ]
           ]
          },
          "colorway": [
           "#636efa",
           "#EF553B",
           "#00cc96",
           "#ab63fa",
           "#FFA15A",
           "#19d3f3",
           "#FF6692",
           "#B6E880",
           "#FF97FF",
           "#FECB52"
          ],
          "font": {
           "color": "#2a3f5f"
          },
          "geo": {
           "bgcolor": "white",
           "lakecolor": "white",
           "landcolor": "white",
           "showlakes": true,
           "showland": true,
           "subunitcolor": "#C8D4E3"
          },
          "hoverlabel": {
           "align": "left"
          },
          "hovermode": "closest",
          "mapbox": {
           "style": "light"
          },
          "paper_bgcolor": "white",
          "plot_bgcolor": "white",
          "polar": {
           "angularaxis": {
            "gridcolor": "#EBF0F8",
            "linecolor": "#EBF0F8",
            "ticks": ""
           },
           "bgcolor": "white",
           "radialaxis": {
            "gridcolor": "#EBF0F8",
            "linecolor": "#EBF0F8",
            "ticks": ""
           }
          },
          "scene": {
           "xaxis": {
            "backgroundcolor": "white",
            "gridcolor": "#DFE8F3",
            "gridwidth": 2,
            "linecolor": "#EBF0F8",
            "showbackground": true,
            "ticks": "",
            "zerolinecolor": "#EBF0F8"
           },
           "yaxis": {
            "backgroundcolor": "white",
            "gridcolor": "#DFE8F3",
            "gridwidth": 2,
            "linecolor": "#EBF0F8",
            "showbackground": true,
            "ticks": "",
            "zerolinecolor": "#EBF0F8"
           },
           "zaxis": {
            "backgroundcolor": "white",
            "gridcolor": "#DFE8F3",
            "gridwidth": 2,
            "linecolor": "#EBF0F8",
            "showbackground": true,
            "ticks": "",
            "zerolinecolor": "#EBF0F8"
           }
          },
          "shapedefaults": {
           "line": {
            "color": "#2a3f5f"
           }
          },
          "ternary": {
           "aaxis": {
            "gridcolor": "#DFE8F3",
            "linecolor": "#A2B1C6",
            "ticks": ""
           },
           "baxis": {
            "gridcolor": "#DFE8F3",
            "linecolor": "#A2B1C6",
            "ticks": ""
           },
           "bgcolor": "white",
           "caxis": {
            "gridcolor": "#DFE8F3",
            "linecolor": "#A2B1C6",
            "ticks": ""
           }
          },
          "title": {
           "x": 0.05
          },
          "xaxis": {
           "automargin": true,
           "gridcolor": "#EBF0F8",
           "linecolor": "#EBF0F8",
           "ticks": "",
           "title": {
            "standoff": 15
           },
           "zerolinecolor": "#EBF0F8",
           "zerolinewidth": 2
          },
          "yaxis": {
           "automargin": true,
           "gridcolor": "#EBF0F8",
           "linecolor": "#EBF0F8",
           "ticks": "",
           "title": {
            "standoff": 15
           },
           "zerolinecolor": "#EBF0F8",
           "zerolinewidth": 2
          }
         }
        },
        "title": {
         "text": "Objective Space"
        },
        "width": 1000,
        "xaxis": {
         "title": {
          "text": "Neg. expected sales"
         }
        },
        "yaxis": {
         "title": {
          "text": "Expected overstock"
         }
        }
       }
      }
     },
     "metadata": {},
     "output_type": "display_data"
    }
   ],
   "source": [
    "visualization.plot_objective_space(\n",
    "    result, \n",
    "    y_label=\"Expected overstock\", \n",
    "    x_label=\"Neg. expected sales\", \n",
    "    title=\"Objective Space\",\n",
    "    show_ideal_nadir=True,\n",
    "    scale_objectives=False\n",
    "    ).update_layout(width=1000, height=500)"
   ]
  },
  {
   "cell_type": "markdown",
   "metadata": {},
   "source": [
    "## 3. Multi-Criteria Decision Making"
   ]
  },
  {
   "cell_type": "code",
   "execution_count": 19,
   "metadata": {},
   "outputs": [],
   "source": [
    "# Preference weights (higher = more important)\n",
    "# Example: prioritize maximizing sales (minimizing -sales)\n",
    "weights = [0.7, 0.3]  # f1 (sales), f2 (overstock)"
   ]
  },
  {
   "cell_type": "code",
   "execution_count": 20,
   "metadata": {},
   "outputs": [
    {
     "name": "stdout",
     "output_type": "stream",
     "text": [
      "Best (ASF):\n",
      "Index: 5\n",
      "Objectives: [-1089.99795595     8.52049958]\n"
     ]
    }
   ],
   "source": [
    "# Using ASF\n",
    "idx_asf, f_asf = mcdm.find_best_solution_by_asf(result, weights, scale=True)\n",
    "print(\"Best (ASF):\")\n",
    "print(\"Index:\", idx_asf)\n",
    "print(\"Objectives:\", f_asf)\n"
   ]
  },
  {
   "cell_type": "code",
   "execution_count": 21,
   "metadata": {},
   "outputs": [
    {
     "name": "stdout",
     "output_type": "stream",
     "text": [
      "Best (PseudoWeights):\n",
      "Index: 1\n",
      "Objectives: [-1105.19697939    12.85555905]\n"
     ]
    }
   ],
   "source": [
    "# Using PseudoWeights\n",
    "idx_pw, f_pw = mcdm.find_best_solution_by_pseudo_weights(result, weights, scale=True)\n",
    "print(\"Best (PseudoWeights):\")\n",
    "print(\"Index:\", idx_pw)\n",
    "print(\"Objectives:\", f_pw)"
   ]
  },
  {
   "cell_type": "code",
   "execution_count": 22,
   "metadata": {},
   "outputs": [
    {
     "data": {
      "application/vnd.plotly.v1+json": {
       "config": {
        "plotlyServerURL": "https://plot.ly"
       },
       "data": [
        {
         "marker": {
          "color": "blue",
          "line": {
           "width": 1
          },
          "size": 8
         },
         "mode": "markers",
         "name": "Pareto Front",
         "type": "scatter",
         "x": {
          "bdata": "6iAXRmBskcAiE/e0yUSRwAyZz9Nz5pDAmGoL/uVNkMAiqvXUes2OwEUJKuj9B5HAPpIrfyp2j8Cz8OrSLb2OwHhLXXL5iI7AAhmqy+50kMC9C0G7YYKPwET/w4BhXpHAVRFSkz6JkMCO6TZlYx+PwFoB/+ElIpDAoBjpFy0njsD2gfgfye6OwO8psy4QapHAMBT0TvXXj8Aa0HjygxiPwJaxg6Xaq5DAk/GYDuKYkcDrQxF2z0eQwAUXg/mI/I7AplTHGH34kMA=",
          "dtype": "f8"
         },
         "y": {
          "bdata": "Zpwz8zVENECzYxTWC7YpQJCPk+zoPRxAGmdwiNZABkCmnEffXRPKP/Ljzut+CiFApsKqGcn76j9mEt0muYbJP5pxGFz0Obg/9oD6NC2EC0Am9O9sr4HuP3Dj3yK9UCxAweoOfEBFEECaPwpxiQHjPyZk91sG2/g/AAAAAAAAAABmAB+gpz7RPxCPjPoEQTFAFYkUVS7w9z/gLel5HT/iPyZwqBsMrBBAgIF4PNNMNEAG5oVjb4H/P7rEzUiLOdM/MMvJEAuxH0A=",
          "dtype": "f8"
         }
        },
        {
         "marker": {
          "color": "green",
          "size": 12,
          "symbol": "star"
         },
         "mode": "markers",
         "name": "Ideal Point (Approx)",
         "type": "scatter",
         "x": [
          -1126.2207588097997
         ],
         "y": [
          0
         ]
        },
        {
         "marker": {
          "color": "red",
          "size": 12,
          "symbol": "pentagon"
         },
         "mode": "markers",
         "name": "Nadir Point (Approx)",
         "type": "scatter",
         "x": [
          -964.8970182619705
         ],
         "y": [
          20.30009820882833
         ]
        },
        {
         "marker": {
          "color": "red",
          "size": 14,
          "symbol": "x"
         },
         "mode": "markers",
         "name": "ASF Optimal Point",
         "type": "scatter",
         "x": [
          -1089.997955948654
         ],
         "y": [
          8.520499581341912
         ]
        },
        {
         "marker": {
          "color": "orange",
          "size": 14,
          "symbol": "x"
         },
         "mode": "markers",
         "name": "PseudoWeights  Optimal Point",
         "type": "scatter",
         "x": [
          -1105.1969793897083
         ],
         "y": [
          12.855559053410479
         ]
        }
       ],
       "layout": {
        "height": 500,
        "template": {
         "data": {
          "bar": [
           {
            "error_x": {
             "color": "#2a3f5f"
            },
            "error_y": {
             "color": "#2a3f5f"
            },
            "marker": {
             "line": {
              "color": "white",
              "width": 0.5
             },
             "pattern": {
              "fillmode": "overlay",
              "size": 10,
              "solidity": 0.2
             }
            },
            "type": "bar"
           }
          ],
          "barpolar": [
           {
            "marker": {
             "line": {
              "color": "white",
              "width": 0.5
             },
             "pattern": {
              "fillmode": "overlay",
              "size": 10,
              "solidity": 0.2
             }
            },
            "type": "barpolar"
           }
          ],
          "carpet": [
           {
            "aaxis": {
             "endlinecolor": "#2a3f5f",
             "gridcolor": "#C8D4E3",
             "linecolor": "#C8D4E3",
             "minorgridcolor": "#C8D4E3",
             "startlinecolor": "#2a3f5f"
            },
            "baxis": {
             "endlinecolor": "#2a3f5f",
             "gridcolor": "#C8D4E3",
             "linecolor": "#C8D4E3",
             "minorgridcolor": "#C8D4E3",
             "startlinecolor": "#2a3f5f"
            },
            "type": "carpet"
           }
          ],
          "choropleth": [
           {
            "colorbar": {
             "outlinewidth": 0,
             "ticks": ""
            },
            "type": "choropleth"
           }
          ],
          "contour": [
           {
            "colorbar": {
             "outlinewidth": 0,
             "ticks": ""
            },
            "colorscale": [
             [
              0,
              "#0d0887"
             ],
             [
              0.1111111111111111,
              "#46039f"
             ],
             [
              0.2222222222222222,
              "#7201a8"
             ],
             [
              0.3333333333333333,
              "#9c179e"
             ],
             [
              0.4444444444444444,
              "#bd3786"
             ],
             [
              0.5555555555555556,
              "#d8576b"
             ],
             [
              0.6666666666666666,
              "#ed7953"
             ],
             [
              0.7777777777777778,
              "#fb9f3a"
             ],
             [
              0.8888888888888888,
              "#fdca26"
             ],
             [
              1,
              "#f0f921"
             ]
            ],
            "type": "contour"
           }
          ],
          "contourcarpet": [
           {
            "colorbar": {
             "outlinewidth": 0,
             "ticks": ""
            },
            "type": "contourcarpet"
           }
          ],
          "heatmap": [
           {
            "colorbar": {
             "outlinewidth": 0,
             "ticks": ""
            },
            "colorscale": [
             [
              0,
              "#0d0887"
             ],
             [
              0.1111111111111111,
              "#46039f"
             ],
             [
              0.2222222222222222,
              "#7201a8"
             ],
             [
              0.3333333333333333,
              "#9c179e"
             ],
             [
              0.4444444444444444,
              "#bd3786"
             ],
             [
              0.5555555555555556,
              "#d8576b"
             ],
             [
              0.6666666666666666,
              "#ed7953"
             ],
             [
              0.7777777777777778,
              "#fb9f3a"
             ],
             [
              0.8888888888888888,
              "#fdca26"
             ],
             [
              1,
              "#f0f921"
             ]
            ],
            "type": "heatmap"
           }
          ],
          "histogram": [
           {
            "marker": {
             "pattern": {
              "fillmode": "overlay",
              "size": 10,
              "solidity": 0.2
             }
            },
            "type": "histogram"
           }
          ],
          "histogram2d": [
           {
            "colorbar": {
             "outlinewidth": 0,
             "ticks": ""
            },
            "colorscale": [
             [
              0,
              "#0d0887"
             ],
             [
              0.1111111111111111,
              "#46039f"
             ],
             [
              0.2222222222222222,
              "#7201a8"
             ],
             [
              0.3333333333333333,
              "#9c179e"
             ],
             [
              0.4444444444444444,
              "#bd3786"
             ],
             [
              0.5555555555555556,
              "#d8576b"
             ],
             [
              0.6666666666666666,
              "#ed7953"
             ],
             [
              0.7777777777777778,
              "#fb9f3a"
             ],
             [
              0.8888888888888888,
              "#fdca26"
             ],
             [
              1,
              "#f0f921"
             ]
            ],
            "type": "histogram2d"
           }
          ],
          "histogram2dcontour": [
           {
            "colorbar": {
             "outlinewidth": 0,
             "ticks": ""
            },
            "colorscale": [
             [
              0,
              "#0d0887"
             ],
             [
              0.1111111111111111,
              "#46039f"
             ],
             [
              0.2222222222222222,
              "#7201a8"
             ],
             [
              0.3333333333333333,
              "#9c179e"
             ],
             [
              0.4444444444444444,
              "#bd3786"
             ],
             [
              0.5555555555555556,
              "#d8576b"
             ],
             [
              0.6666666666666666,
              "#ed7953"
             ],
             [
              0.7777777777777778,
              "#fb9f3a"
             ],
             [
              0.8888888888888888,
              "#fdca26"
             ],
             [
              1,
              "#f0f921"
             ]
            ],
            "type": "histogram2dcontour"
           }
          ],
          "mesh3d": [
           {
            "colorbar": {
             "outlinewidth": 0,
             "ticks": ""
            },
            "type": "mesh3d"
           }
          ],
          "parcoords": [
           {
            "line": {
             "colorbar": {
              "outlinewidth": 0,
              "ticks": ""
             }
            },
            "type": "parcoords"
           }
          ],
          "pie": [
           {
            "automargin": true,
            "type": "pie"
           }
          ],
          "scatter": [
           {
            "fillpattern": {
             "fillmode": "overlay",
             "size": 10,
             "solidity": 0.2
            },
            "type": "scatter"
           }
          ],
          "scatter3d": [
           {
            "line": {
             "colorbar": {
              "outlinewidth": 0,
              "ticks": ""
             }
            },
            "marker": {
             "colorbar": {
              "outlinewidth": 0,
              "ticks": ""
             }
            },
            "type": "scatter3d"
           }
          ],
          "scattercarpet": [
           {
            "marker": {
             "colorbar": {
              "outlinewidth": 0,
              "ticks": ""
             }
            },
            "type": "scattercarpet"
           }
          ],
          "scattergeo": [
           {
            "marker": {
             "colorbar": {
              "outlinewidth": 0,
              "ticks": ""
             }
            },
            "type": "scattergeo"
           }
          ],
          "scattergl": [
           {
            "marker": {
             "colorbar": {
              "outlinewidth": 0,
              "ticks": ""
             }
            },
            "type": "scattergl"
           }
          ],
          "scattermap": [
           {
            "marker": {
             "colorbar": {
              "outlinewidth": 0,
              "ticks": ""
             }
            },
            "type": "scattermap"
           }
          ],
          "scattermapbox": [
           {
            "marker": {
             "colorbar": {
              "outlinewidth": 0,
              "ticks": ""
             }
            },
            "type": "scattermapbox"
           }
          ],
          "scatterpolar": [
           {
            "marker": {
             "colorbar": {
              "outlinewidth": 0,
              "ticks": ""
             }
            },
            "type": "scatterpolar"
           }
          ],
          "scatterpolargl": [
           {
            "marker": {
             "colorbar": {
              "outlinewidth": 0,
              "ticks": ""
             }
            },
            "type": "scatterpolargl"
           }
          ],
          "scatterternary": [
           {
            "marker": {
             "colorbar": {
              "outlinewidth": 0,
              "ticks": ""
             }
            },
            "type": "scatterternary"
           }
          ],
          "surface": [
           {
            "colorbar": {
             "outlinewidth": 0,
             "ticks": ""
            },
            "colorscale": [
             [
              0,
              "#0d0887"
             ],
             [
              0.1111111111111111,
              "#46039f"
             ],
             [
              0.2222222222222222,
              "#7201a8"
             ],
             [
              0.3333333333333333,
              "#9c179e"
             ],
             [
              0.4444444444444444,
              "#bd3786"
             ],
             [
              0.5555555555555556,
              "#d8576b"
             ],
             [
              0.6666666666666666,
              "#ed7953"
             ],
             [
              0.7777777777777778,
              "#fb9f3a"
             ],
             [
              0.8888888888888888,
              "#fdca26"
             ],
             [
              1,
              "#f0f921"
             ]
            ],
            "type": "surface"
           }
          ],
          "table": [
           {
            "cells": {
             "fill": {
              "color": "#EBF0F8"
             },
             "line": {
              "color": "white"
             }
            },
            "header": {
             "fill": {
              "color": "#C8D4E3"
             },
             "line": {
              "color": "white"
             }
            },
            "type": "table"
           }
          ]
         },
         "layout": {
          "annotationdefaults": {
           "arrowcolor": "#2a3f5f",
           "arrowhead": 0,
           "arrowwidth": 1
          },
          "autotypenumbers": "strict",
          "coloraxis": {
           "colorbar": {
            "outlinewidth": 0,
            "ticks": ""
           }
          },
          "colorscale": {
           "diverging": [
            [
             0,
             "#8e0152"
            ],
            [
             0.1,
             "#c51b7d"
            ],
            [
             0.2,
             "#de77ae"
            ],
            [
             0.3,
             "#f1b6da"
            ],
            [
             0.4,
             "#fde0ef"
            ],
            [
             0.5,
             "#f7f7f7"
            ],
            [
             0.6,
             "#e6f5d0"
            ],
            [
             0.7,
             "#b8e186"
            ],
            [
             0.8,
             "#7fbc41"
            ],
            [
             0.9,
             "#4d9221"
            ],
            [
             1,
             "#276419"
            ]
           ],
           "sequential": [
            [
             0,
             "#0d0887"
            ],
            [
             0.1111111111111111,
             "#46039f"
            ],
            [
             0.2222222222222222,
             "#7201a8"
            ],
            [
             0.3333333333333333,
             "#9c179e"
            ],
            [
             0.4444444444444444,
             "#bd3786"
            ],
            [
             0.5555555555555556,
             "#d8576b"
            ],
            [
             0.6666666666666666,
             "#ed7953"
            ],
            [
             0.7777777777777778,
             "#fb9f3a"
            ],
            [
             0.8888888888888888,
             "#fdca26"
            ],
            [
             1,
             "#f0f921"
            ]
           ],
           "sequentialminus": [
            [
             0,
             "#0d0887"
            ],
            [
             0.1111111111111111,
             "#46039f"
            ],
            [
             0.2222222222222222,
             "#7201a8"
            ],
            [
             0.3333333333333333,
             "#9c179e"
            ],
            [
             0.4444444444444444,
             "#bd3786"
            ],
            [
             0.5555555555555556,
             "#d8576b"
            ],
            [
             0.6666666666666666,
             "#ed7953"
            ],
            [
             0.7777777777777778,
             "#fb9f3a"
            ],
            [
             0.8888888888888888,
             "#fdca26"
            ],
            [
             1,
             "#f0f921"
            ]
           ]
          },
          "colorway": [
           "#636efa",
           "#EF553B",
           "#00cc96",
           "#ab63fa",
           "#FFA15A",
           "#19d3f3",
           "#FF6692",
           "#B6E880",
           "#FF97FF",
           "#FECB52"
          ],
          "font": {
           "color": "#2a3f5f"
          },
          "geo": {
           "bgcolor": "white",
           "lakecolor": "white",
           "landcolor": "white",
           "showlakes": true,
           "showland": true,
           "subunitcolor": "#C8D4E3"
          },
          "hoverlabel": {
           "align": "left"
          },
          "hovermode": "closest",
          "mapbox": {
           "style": "light"
          },
          "paper_bgcolor": "white",
          "plot_bgcolor": "white",
          "polar": {
           "angularaxis": {
            "gridcolor": "#EBF0F8",
            "linecolor": "#EBF0F8",
            "ticks": ""
           },
           "bgcolor": "white",
           "radialaxis": {
            "gridcolor": "#EBF0F8",
            "linecolor": "#EBF0F8",
            "ticks": ""
           }
          },
          "scene": {
           "xaxis": {
            "backgroundcolor": "white",
            "gridcolor": "#DFE8F3",
            "gridwidth": 2,
            "linecolor": "#EBF0F8",
            "showbackground": true,
            "ticks": "",
            "zerolinecolor": "#EBF0F8"
           },
           "yaxis": {
            "backgroundcolor": "white",
            "gridcolor": "#DFE8F3",
            "gridwidth": 2,
            "linecolor": "#EBF0F8",
            "showbackground": true,
            "ticks": "",
            "zerolinecolor": "#EBF0F8"
           },
           "zaxis": {
            "backgroundcolor": "white",
            "gridcolor": "#DFE8F3",
            "gridwidth": 2,
            "linecolor": "#EBF0F8",
            "showbackground": true,
            "ticks": "",
            "zerolinecolor": "#EBF0F8"
           }
          },
          "shapedefaults": {
           "line": {
            "color": "#2a3f5f"
           }
          },
          "ternary": {
           "aaxis": {
            "gridcolor": "#DFE8F3",
            "linecolor": "#A2B1C6",
            "ticks": ""
           },
           "baxis": {
            "gridcolor": "#DFE8F3",
            "linecolor": "#A2B1C6",
            "ticks": ""
           },
           "bgcolor": "white",
           "caxis": {
            "gridcolor": "#DFE8F3",
            "linecolor": "#A2B1C6",
            "ticks": ""
           }
          },
          "title": {
           "x": 0.05
          },
          "xaxis": {
           "automargin": true,
           "gridcolor": "#EBF0F8",
           "linecolor": "#EBF0F8",
           "ticks": "",
           "title": {
            "standoff": 15
           },
           "zerolinecolor": "#EBF0F8",
           "zerolinewidth": 2
          },
          "yaxis": {
           "automargin": true,
           "gridcolor": "#EBF0F8",
           "linecolor": "#EBF0F8",
           "ticks": "",
           "title": {
            "standoff": 15
           },
           "zerolinecolor": "#EBF0F8",
           "zerolinewidth": 2
          }
         }
        },
        "title": {
         "text": "Pareto Front - ASF vs PseudoWeights"
        },
        "width": 1000,
        "xaxis": {
         "title": {
          "text": "-Expected Sales"
         }
        },
        "yaxis": {
         "title": {
          "text": "Expected Overstock"
         }
        }
       }
      }
     },
     "metadata": {},
     "output_type": "display_data"
    }
   ],
   "source": [
    "# Highlight both points in the same plot\n",
    "visualization.plot_objective_space(\n",
    "    result,\n",
    "    x_label=\"-Expected Sales\",\n",
    "    y_label=\"Expected Overstock\",\n",
    "    title=\"Pareto Front - ASF vs PseudoWeights\",\n",
    "    scale_objectives=False,\n",
    "    show_ideal_nadir=True,\n",
    "    highlight_points=[\n",
    "        {\"index\": idx_asf, \"label\": \"ASF Optimal Point\", \"color\": \"red\"},\n",
    "        {\"index\": idx_pw, \"label\": \"PseudoWeights  Optimal Point\", \"color\": \"orange\"}\n",
    "    ]\n",
    ").update_layout(width=1000, height=500)"
   ]
  },
  {
   "cell_type": "code",
   "execution_count": 23,
   "metadata": {},
   "outputs": [
    {
     "data": {
      "application/vnd.plotly.v1+json": {
       "config": {
        "plotlyServerURL": "https://plot.ly"
       },
       "data": [
        {
         "marker": {
          "color": "blue",
          "line": {
           "width": 1
          },
          "size": 8
         },
         "mode": "markers",
         "name": "Pareto Front",
         "type": "scatter",
         "x": {
          "bdata": "38U23R2osT9yc9sCV67AP6GXvntXstE/cviT/tZp4D/+d/zWY+DrPx1IxeOOvcw/4YdQLqix5z/qQdnx20fsP4gXWSA6k+0/pVEnUpn03D+L3CIbHmTnP4WayjJ3Nbc/Ym9cOePw2j84jlczetjpP6E2zwtAleI/AAAAAAAA8D9K9PJS+wzrP/bXJIUCk7I/KiTUF+xE5T8aQH1FGgTqP2Ura44mgtc/AAAAAAAAAABwVRWAILfgP9f4giG1teo/D5n0lc7Qzz8=",
          "dtype": "f8"
         },
         "y": {
          "bdata": "GhsetGvy7z9WypNqy0PkPyVJ9W1sQtY/g/1RzxiKwT9vxQLpWI2EPzd/VrDO3No/FBBroIhEpT/SlVjxfh6EP2PcXmQ3GHM/UXbckwiwxT8d46wdYwuoP5It1ZdDUeY/v6297uGlyT/TRIBUxvWdP4NsWvAql7M/AAAAAAAAAAAalVovBy+LP48GiG7BMus/AfLc7BHesj8OP2xwTMOcP+Pa8HzsR8o/AAAAAAAA8D+GOVNi9tS4P9mlEr8PTo4/OtZnY3z62D8=",
          "dtype": "f8"
         }
        },
        {
         "marker": {
          "color": "green",
          "size": 12,
          "symbol": "star"
         },
         "mode": "markers",
         "name": "Ideal Point (Approx)",
         "type": "scatter",
         "x": [
          0
         ],
         "y": [
          0
         ]
        },
        {
         "marker": {
          "color": "red",
          "size": 12,
          "symbol": "pentagon"
         },
         "mode": "markers",
         "name": "Nadir Point (Approx)",
         "type": "scatter",
         "x": [
          1
         ],
         "y": [
          1
         ]
        },
        {
         "marker": {
          "color": "red",
          "size": 14,
          "symbol": "x"
         },
         "mode": "markers",
         "name": "ASF Optimal Point",
         "type": "scatter",
         "x": [
          0.22453485604870674
         ],
         "y": [
          0.41972701282974206
         ]
        },
        {
         "marker": {
          "color": "orange",
          "size": 14,
          "symbol": "x"
         },
         "mode": "markers",
         "name": "PseudoWeights  Optimal Point",
         "type": "scatter",
         "x": [
          0.13032043113244246
         ],
         "y": [
          0.6332757073963176
         ]
        }
       ],
       "layout": {
        "height": 500,
        "template": {
         "data": {
          "bar": [
           {
            "error_x": {
             "color": "#2a3f5f"
            },
            "error_y": {
             "color": "#2a3f5f"
            },
            "marker": {
             "line": {
              "color": "white",
              "width": 0.5
             },
             "pattern": {
              "fillmode": "overlay",
              "size": 10,
              "solidity": 0.2
             }
            },
            "type": "bar"
           }
          ],
          "barpolar": [
           {
            "marker": {
             "line": {
              "color": "white",
              "width": 0.5
             },
             "pattern": {
              "fillmode": "overlay",
              "size": 10,
              "solidity": 0.2
             }
            },
            "type": "barpolar"
           }
          ],
          "carpet": [
           {
            "aaxis": {
             "endlinecolor": "#2a3f5f",
             "gridcolor": "#C8D4E3",
             "linecolor": "#C8D4E3",
             "minorgridcolor": "#C8D4E3",
             "startlinecolor": "#2a3f5f"
            },
            "baxis": {
             "endlinecolor": "#2a3f5f",
             "gridcolor": "#C8D4E3",
             "linecolor": "#C8D4E3",
             "minorgridcolor": "#C8D4E3",
             "startlinecolor": "#2a3f5f"
            },
            "type": "carpet"
           }
          ],
          "choropleth": [
           {
            "colorbar": {
             "outlinewidth": 0,
             "ticks": ""
            },
            "type": "choropleth"
           }
          ],
          "contour": [
           {
            "colorbar": {
             "outlinewidth": 0,
             "ticks": ""
            },
            "colorscale": [
             [
              0,
              "#0d0887"
             ],
             [
              0.1111111111111111,
              "#46039f"
             ],
             [
              0.2222222222222222,
              "#7201a8"
             ],
             [
              0.3333333333333333,
              "#9c179e"
             ],
             [
              0.4444444444444444,
              "#bd3786"
             ],
             [
              0.5555555555555556,
              "#d8576b"
             ],
             [
              0.6666666666666666,
              "#ed7953"
             ],
             [
              0.7777777777777778,
              "#fb9f3a"
             ],
             [
              0.8888888888888888,
              "#fdca26"
             ],
             [
              1,
              "#f0f921"
             ]
            ],
            "type": "contour"
           }
          ],
          "contourcarpet": [
           {
            "colorbar": {
             "outlinewidth": 0,
             "ticks": ""
            },
            "type": "contourcarpet"
           }
          ],
          "heatmap": [
           {
            "colorbar": {
             "outlinewidth": 0,
             "ticks": ""
            },
            "colorscale": [
             [
              0,
              "#0d0887"
             ],
             [
              0.1111111111111111,
              "#46039f"
             ],
             [
              0.2222222222222222,
              "#7201a8"
             ],
             [
              0.3333333333333333,
              "#9c179e"
             ],
             [
              0.4444444444444444,
              "#bd3786"
             ],
             [
              0.5555555555555556,
              "#d8576b"
             ],
             [
              0.6666666666666666,
              "#ed7953"
             ],
             [
              0.7777777777777778,
              "#fb9f3a"
             ],
             [
              0.8888888888888888,
              "#fdca26"
             ],
             [
              1,
              "#f0f921"
             ]
            ],
            "type": "heatmap"
           }
          ],
          "histogram": [
           {
            "marker": {
             "pattern": {
              "fillmode": "overlay",
              "size": 10,
              "solidity": 0.2
             }
            },
            "type": "histogram"
           }
          ],
          "histogram2d": [
           {
            "colorbar": {
             "outlinewidth": 0,
             "ticks": ""
            },
            "colorscale": [
             [
              0,
              "#0d0887"
             ],
             [
              0.1111111111111111,
              "#46039f"
             ],
             [
              0.2222222222222222,
              "#7201a8"
             ],
             [
              0.3333333333333333,
              "#9c179e"
             ],
             [
              0.4444444444444444,
              "#bd3786"
             ],
             [
              0.5555555555555556,
              "#d8576b"
             ],
             [
              0.6666666666666666,
              "#ed7953"
             ],
             [
              0.7777777777777778,
              "#fb9f3a"
             ],
             [
              0.8888888888888888,
              "#fdca26"
             ],
             [
              1,
              "#f0f921"
             ]
            ],
            "type": "histogram2d"
           }
          ],
          "histogram2dcontour": [
           {
            "colorbar": {
             "outlinewidth": 0,
             "ticks": ""
            },
            "colorscale": [
             [
              0,
              "#0d0887"
             ],
             [
              0.1111111111111111,
              "#46039f"
             ],
             [
              0.2222222222222222,
              "#7201a8"
             ],
             [
              0.3333333333333333,
              "#9c179e"
             ],
             [
              0.4444444444444444,
              "#bd3786"
             ],
             [
              0.5555555555555556,
              "#d8576b"
             ],
             [
              0.6666666666666666,
              "#ed7953"
             ],
             [
              0.7777777777777778,
              "#fb9f3a"
             ],
             [
              0.8888888888888888,
              "#fdca26"
             ],
             [
              1,
              "#f0f921"
             ]
            ],
            "type": "histogram2dcontour"
           }
          ],
          "mesh3d": [
           {
            "colorbar": {
             "outlinewidth": 0,
             "ticks": ""
            },
            "type": "mesh3d"
           }
          ],
          "parcoords": [
           {
            "line": {
             "colorbar": {
              "outlinewidth": 0,
              "ticks": ""
             }
            },
            "type": "parcoords"
           }
          ],
          "pie": [
           {
            "automargin": true,
            "type": "pie"
           }
          ],
          "scatter": [
           {
            "fillpattern": {
             "fillmode": "overlay",
             "size": 10,
             "solidity": 0.2
            },
            "type": "scatter"
           }
          ],
          "scatter3d": [
           {
            "line": {
             "colorbar": {
              "outlinewidth": 0,
              "ticks": ""
             }
            },
            "marker": {
             "colorbar": {
              "outlinewidth": 0,
              "ticks": ""
             }
            },
            "type": "scatter3d"
           }
          ],
          "scattercarpet": [
           {
            "marker": {
             "colorbar": {
              "outlinewidth": 0,
              "ticks": ""
             }
            },
            "type": "scattercarpet"
           }
          ],
          "scattergeo": [
           {
            "marker": {
             "colorbar": {
              "outlinewidth": 0,
              "ticks": ""
             }
            },
            "type": "scattergeo"
           }
          ],
          "scattergl": [
           {
            "marker": {
             "colorbar": {
              "outlinewidth": 0,
              "ticks": ""
             }
            },
            "type": "scattergl"
           }
          ],
          "scattermap": [
           {
            "marker": {
             "colorbar": {
              "outlinewidth": 0,
              "ticks": ""
             }
            },
            "type": "scattermap"
           }
          ],
          "scattermapbox": [
           {
            "marker": {
             "colorbar": {
              "outlinewidth": 0,
              "ticks": ""
             }
            },
            "type": "scattermapbox"
           }
          ],
          "scatterpolar": [
           {
            "marker": {
             "colorbar": {
              "outlinewidth": 0,
              "ticks": ""
             }
            },
            "type": "scatterpolar"
           }
          ],
          "scatterpolargl": [
           {
            "marker": {
             "colorbar": {
              "outlinewidth": 0,
              "ticks": ""
             }
            },
            "type": "scatterpolargl"
           }
          ],
          "scatterternary": [
           {
            "marker": {
             "colorbar": {
              "outlinewidth": 0,
              "ticks": ""
             }
            },
            "type": "scatterternary"
           }
          ],
          "surface": [
           {
            "colorbar": {
             "outlinewidth": 0,
             "ticks": ""
            },
            "colorscale": [
             [
              0,
              "#0d0887"
             ],
             [
              0.1111111111111111,
              "#46039f"
             ],
             [
              0.2222222222222222,
              "#7201a8"
             ],
             [
              0.3333333333333333,
              "#9c179e"
             ],
             [
              0.4444444444444444,
              "#bd3786"
             ],
             [
              0.5555555555555556,
              "#d8576b"
             ],
             [
              0.6666666666666666,
              "#ed7953"
             ],
             [
              0.7777777777777778,
              "#fb9f3a"
             ],
             [
              0.8888888888888888,
              "#fdca26"
             ],
             [
              1,
              "#f0f921"
             ]
            ],
            "type": "surface"
           }
          ],
          "table": [
           {
            "cells": {
             "fill": {
              "color": "#EBF0F8"
             },
             "line": {
              "color": "white"
             }
            },
            "header": {
             "fill": {
              "color": "#C8D4E3"
             },
             "line": {
              "color": "white"
             }
            },
            "type": "table"
           }
          ]
         },
         "layout": {
          "annotationdefaults": {
           "arrowcolor": "#2a3f5f",
           "arrowhead": 0,
           "arrowwidth": 1
          },
          "autotypenumbers": "strict",
          "coloraxis": {
           "colorbar": {
            "outlinewidth": 0,
            "ticks": ""
           }
          },
          "colorscale": {
           "diverging": [
            [
             0,
             "#8e0152"
            ],
            [
             0.1,
             "#c51b7d"
            ],
            [
             0.2,
             "#de77ae"
            ],
            [
             0.3,
             "#f1b6da"
            ],
            [
             0.4,
             "#fde0ef"
            ],
            [
             0.5,
             "#f7f7f7"
            ],
            [
             0.6,
             "#e6f5d0"
            ],
            [
             0.7,
             "#b8e186"
            ],
            [
             0.8,
             "#7fbc41"
            ],
            [
             0.9,
             "#4d9221"
            ],
            [
             1,
             "#276419"
            ]
           ],
           "sequential": [
            [
             0,
             "#0d0887"
            ],
            [
             0.1111111111111111,
             "#46039f"
            ],
            [
             0.2222222222222222,
             "#7201a8"
            ],
            [
             0.3333333333333333,
             "#9c179e"
            ],
            [
             0.4444444444444444,
             "#bd3786"
            ],
            [
             0.5555555555555556,
             "#d8576b"
            ],
            [
             0.6666666666666666,
             "#ed7953"
            ],
            [
             0.7777777777777778,
             "#fb9f3a"
            ],
            [
             0.8888888888888888,
             "#fdca26"
            ],
            [
             1,
             "#f0f921"
            ]
           ],
           "sequentialminus": [
            [
             0,
             "#0d0887"
            ],
            [
             0.1111111111111111,
             "#46039f"
            ],
            [
             0.2222222222222222,
             "#7201a8"
            ],
            [
             0.3333333333333333,
             "#9c179e"
            ],
            [
             0.4444444444444444,
             "#bd3786"
            ],
            [
             0.5555555555555556,
             "#d8576b"
            ],
            [
             0.6666666666666666,
             "#ed7953"
            ],
            [
             0.7777777777777778,
             "#fb9f3a"
            ],
            [
             0.8888888888888888,
             "#fdca26"
            ],
            [
             1,
             "#f0f921"
            ]
           ]
          },
          "colorway": [
           "#636efa",
           "#EF553B",
           "#00cc96",
           "#ab63fa",
           "#FFA15A",
           "#19d3f3",
           "#FF6692",
           "#B6E880",
           "#FF97FF",
           "#FECB52"
          ],
          "font": {
           "color": "#2a3f5f"
          },
          "geo": {
           "bgcolor": "white",
           "lakecolor": "white",
           "landcolor": "white",
           "showlakes": true,
           "showland": true,
           "subunitcolor": "#C8D4E3"
          },
          "hoverlabel": {
           "align": "left"
          },
          "hovermode": "closest",
          "mapbox": {
           "style": "light"
          },
          "paper_bgcolor": "white",
          "plot_bgcolor": "white",
          "polar": {
           "angularaxis": {
            "gridcolor": "#EBF0F8",
            "linecolor": "#EBF0F8",
            "ticks": ""
           },
           "bgcolor": "white",
           "radialaxis": {
            "gridcolor": "#EBF0F8",
            "linecolor": "#EBF0F8",
            "ticks": ""
           }
          },
          "scene": {
           "xaxis": {
            "backgroundcolor": "white",
            "gridcolor": "#DFE8F3",
            "gridwidth": 2,
            "linecolor": "#EBF0F8",
            "showbackground": true,
            "ticks": "",
            "zerolinecolor": "#EBF0F8"
           },
           "yaxis": {
            "backgroundcolor": "white",
            "gridcolor": "#DFE8F3",
            "gridwidth": 2,
            "linecolor": "#EBF0F8",
            "showbackground": true,
            "ticks": "",
            "zerolinecolor": "#EBF0F8"
           },
           "zaxis": {
            "backgroundcolor": "white",
            "gridcolor": "#DFE8F3",
            "gridwidth": 2,
            "linecolor": "#EBF0F8",
            "showbackground": true,
            "ticks": "",
            "zerolinecolor": "#EBF0F8"
           }
          },
          "shapedefaults": {
           "line": {
            "color": "#2a3f5f"
           }
          },
          "ternary": {
           "aaxis": {
            "gridcolor": "#DFE8F3",
            "linecolor": "#A2B1C6",
            "ticks": ""
           },
           "baxis": {
            "gridcolor": "#DFE8F3",
            "linecolor": "#A2B1C6",
            "ticks": ""
           },
           "bgcolor": "white",
           "caxis": {
            "gridcolor": "#DFE8F3",
            "linecolor": "#A2B1C6",
            "ticks": ""
           }
          },
          "title": {
           "x": 0.05
          },
          "xaxis": {
           "automargin": true,
           "gridcolor": "#EBF0F8",
           "linecolor": "#EBF0F8",
           "ticks": "",
           "title": {
            "standoff": 15
           },
           "zerolinecolor": "#EBF0F8",
           "zerolinewidth": 2
          },
          "yaxis": {
           "automargin": true,
           "gridcolor": "#EBF0F8",
           "linecolor": "#EBF0F8",
           "ticks": "",
           "title": {
            "standoff": 15
           },
           "zerolinecolor": "#EBF0F8",
           "zerolinewidth": 2
          }
         }
        },
        "title": {
         "text": "Pareto Front - ASF vs PseudoWeights"
        },
        "width": 1000,
        "xaxis": {
         "title": {
          "text": "-Expected Sales (scaled)"
         }
        },
        "yaxis": {
         "title": {
          "text": "Expected Overstock (scaled)"
         }
        }
       }
      }
     },
     "metadata": {},
     "output_type": "display_data"
    }
   ],
   "source": [
    "# Highlight both points in the same plot\n",
    "visualization.plot_objective_space(\n",
    "    result,\n",
    "    x_label=\"-Expected Sales\",\n",
    "    y_label=\"Expected Overstock\",\n",
    "    title=\"Pareto Front - ASF vs PseudoWeights\",\n",
    "    scale_objectives=True,\n",
    "    show_ideal_nadir=True,\n",
    "    highlight_points=[\n",
    "        {\"index\": idx_asf, \"label\": \"ASF Optimal Point\", \"color\": \"red\"},\n",
    "        {\"index\": idx_pw, \"label\": \"PseudoWeights  Optimal Point\", \"color\": \"orange\"}\n",
    "    ]\n",
    ").update_layout(width=1000, height=500)"
   ]
  }
 ],
 "metadata": {
  "kernelspec": {
   "display_name": ".venv",
   "language": "python",
   "name": "python3"
  },
  "language_info": {
   "codemirror_mode": {
    "name": "ipython",
    "version": 3
   },
   "file_extension": ".py",
   "mimetype": "text/x-python",
   "name": "python",
   "nbconvert_exporter": "python",
   "pygments_lexer": "ipython3",
   "version": "3.11.9"
  }
 },
 "nbformat": 4,
 "nbformat_minor": 2
}
